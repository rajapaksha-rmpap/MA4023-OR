{
 "cells": [
  {
   "cell_type": "code",
   "execution_count": 2,
   "metadata": {},
   "outputs": [],
   "source": [
    "import os, sys, copy\n",
    "\n",
    "import numpy as np\n",
    "import pandas as pd\n",
    "\n",
    "from fractions import Fraction\n",
    "from tabulate import tabulate\n",
    "\n",
    "from helper import *"
   ]
  },
  {
   "cell_type": "code",
   "execution_count": 3,
   "metadata": {},
   "outputs": [],
   "source": [
    "# no. of decision variables (N)\n",
    "NO_OF_DECISION_VARS = 2\n",
    "\n",
    "# no. of conditions \n",
    "NO_OF_CONDITIONS = 2\n",
    "\n",
    "# --------------------------------- objective function ---------------------------------\n",
    "# specify the objective function in the format [<coefficient_1>, <coefficient_2>, ..., <coefficient_N>]\n",
    "OBJ_FUNC = [1, 1]\n",
    "\n",
    "# -------------------------------- type of optimization --------------------------------\n",
    "OPT_TYPE = \"MAX\" # or \"MIN\" \n",
    "\n",
    "# ------------------------------------- conditions -------------------------------------\n",
    "# specify each condition in a new row with the format [<coefficient_1>, <coefficient_2>, ..., <coefficient_N>, 'operation', <solution>]\n",
    "# the operation can be one of the '>=', '<=', or '='\n",
    "conditions = [\n",
    "    [   3, 2, 5],\n",
    "    [   0, 1, 2],\n",
    "]"
   ]
  },
  {
   "cell_type": "code",
   "execution_count": 4,
   "metadata": {},
   "outputs": [
    {
     "name": "stdout",
     "output_type": "stream",
     "text": [
      "variables: ['P', 'X1', 'X2', 'S1', 'S2']\n",
      "basic variables: ['P', 'S1', 'S2']\n"
     ]
    }
   ],
   "source": [
    "var_symbol_arr = []\n",
    "basic_var_symbol_arr = []\n",
    "\n",
    "OBJ_FUNC_VAR_SYMBOL = \"P\"\n",
    "DECISION_VAR_SYMBOL = \"X\"\n",
    "SLACK_VAR_SYMBOL    = \"S\"\n",
    "\n",
    "# ========================= ALL THE VARIABLES =========================\n",
    "var_symbol_arr.append(OBJ_FUNC_VAR_SYMBOL)\n",
    "\n",
    "for i in range(NO_OF_DECISION_VARS):\n",
    "    var_symbol_arr.append(DECISION_VAR_SYMBOL + str(i+1))\n",
    "\n",
    "for i in range(NO_OF_CONDITIONS):\n",
    "    var_symbol_arr.append(SLACK_VAR_SYMBOL + str(i+1))\n",
    "\n",
    "print(\"variables:\", var_symbol_arr)\n",
    "\n",
    "# ========================== BASIC VARIABLES ==========================\n",
    "basic_var_symbol_arr.append(OBJ_FUNC_VAR_SYMBOL)\n",
    "\n",
    "for i in range(NO_OF_CONDITIONS):\n",
    "    basic_var_symbol_arr.append(SLACK_VAR_SYMBOL + str(i+1))\n",
    "\n",
    "print(\"basic variables:\", basic_var_symbol_arr)"
   ]
  },
  {
   "cell_type": "code",
   "execution_count": 5,
   "metadata": {},
   "outputs": [],
   "source": [
    "# verify the elements\n",
    "OBJ_FUNC = np.array(OBJ_FUNC)\n",
    "if len(OBJ_FUNC) != NO_OF_DECISION_VARS:\n",
    "    raise Exception(f\"the no. of coefficients in the objective function doesn't match tne number of decision variables...\")\n",
    "\n",
    "conditions = np.array(conditions)\n",
    "if len(conditions) != NO_OF_CONDITIONS:\n",
    "    raise Exception(f\"the no. of specified conditions doesn't match 'NO_OF_CONDITIONS'...\")\n",
    "if len(conditions[0]) != NO_OF_DECISION_VARS + 1:\n",
    "    raise Exception(f\"the no. of coefficients in the conditions doesn't match tne number of decision variables...\")"
   ]
  },
  {
   "cell_type": "code",
   "execution_count": 6,
   "metadata": {},
   "outputs": [
    {
     "name": "stdout",
     "output_type": "stream",
     "text": [
      "┌────┬─────┬──────┬──────┬──────┬──────┬───────┐\n",
      "│    │   P │   X1 │   X2 │   S1 │   S2 │   sol │\n",
      "├────┼─────┼──────┼──────┼──────┼──────┼───────┤\n",
      "│ P  │   1 │   -1 │   -1 │    0 │    0 │     0 │\n",
      "├────┼─────┼──────┼──────┼──────┼──────┼───────┤\n",
      "│ S1 │   0 │    3 │    2 │    1 │    0 │     5 │\n",
      "├────┼─────┼──────┼──────┼──────┼──────┼───────┤\n",
      "│ S2 │   0 │    0 │    1 │    0 │    1 │     2 │\n",
      "└────┴─────┴──────┴──────┴──────┴──────┴───────┘\n"
     ]
    }
   ],
   "source": [
    "# find the size of a row\n",
    "row_size = 1 + NO_OF_DECISION_VARS + NO_OF_CONDITIONS + 1\n",
    "\n",
    "# find the column size\n",
    "col_size = 1 + NO_OF_CONDITIONS # no. of basic vars = 1 (for objective function) + no. of conditions\n",
    "\n",
    "# construct the initial tabulation\n",
    "obj_func_row = np.concatenate(([1], -OBJ_FUNC, np.zeros([NO_OF_CONDITIONS]), [0]))\n",
    "initial_tabulation = obj_func_row.reshape((1, -1))\n",
    "\n",
    "for i in range(1, col_size):\n",
    "\n",
    "    # condition rows\n",
    "    temp = np.zeros([NO_OF_CONDITIONS])\n",
    "    temp[i-1] = 1\n",
    "    row = np.concatenate(([0], conditions[i-1][ :-1], temp, conditions[i-1][-1: ])).reshape((1, -1))\n",
    "\n",
    "    initial_tabulation = np.concatenate((initial_tabulation, row), axis=0)\n",
    "\n",
    "# convert all the elements into fractions\n",
    "for i in range(initial_tabulation.shape[0]):\n",
    "    initial_tabulation[i] = np.array(list(map(Fraction, initial_tabulation[i])))\n",
    "\n",
    "visualize_tabulation(initial_tabulation, all_vars=var_symbol_arr, basic_vars=basic_var_symbol_arr)"
   ]
  },
  {
   "cell_type": "code",
   "execution_count": 7,
   "metadata": {},
   "outputs": [
    {
     "data": {
      "text/plain": [
       "array([[ 1., -1., -1.,  0.,  0.,  0.],\n",
       "       [ 0.,  3.,  2.,  1.,  0.,  5.],\n",
       "       [ 0.,  0.,  1.,  0.,  1.,  2.]])"
      ]
     },
     "execution_count": 7,
     "metadata": {},
     "output_type": "execute_result"
    }
   ],
   "source": [
    "initial_tabulation"
   ]
  },
  {
   "cell_type": "code",
   "execution_count": 8,
   "metadata": {},
   "outputs": [
    {
     "ename": "AttributeError",
     "evalue": "'numpy.float64' object has no attribute 'denominator'",
     "output_type": "error",
     "traceback": [
      "\u001b[0;31m---------------------------------------------------------------------------\u001b[0m",
      "\u001b[0;31mAttributeError\u001b[0m                            Traceback (most recent call last)",
      "Cell \u001b[0;32mIn[8], line 1\u001b[0m\n\u001b[0;32m----> 1\u001b[0m \u001b[43minteger_program\u001b[49m\u001b[43m(\u001b[49m\u001b[43minitial_tabulation\u001b[49m\u001b[43m,\u001b[49m\u001b[43m \u001b[49m\u001b[43mvar_symbol_arr\u001b[49m\u001b[43m,\u001b[49m\u001b[43m \u001b[49m\u001b[43mbasic_var_symbol_arr\u001b[49m\u001b[43m,\u001b[49m\u001b[43m \u001b[49m\u001b[43mOPT_TYPE\u001b[49m\u001b[43m)\u001b[49m\n",
      "File \u001b[0;32m~/semester_8/OR/helper.py:252\u001b[0m, in \u001b[0;36minteger_program\u001b[0;34m(tabulation, all_vars, basic_vars, opt_type)\u001b[0m\n\u001b[1;32m    249\u001b[0m basic_vars \u001b[38;5;241m=\u001b[39m copy\u001b[38;5;241m.\u001b[39mdeepcopy(basic_vars)\n\u001b[1;32m    251\u001b[0m iteration_no \u001b[38;5;241m=\u001b[39m \u001b[38;5;241m0\u001b[39m\n\u001b[0;32m--> 252\u001b[0m \u001b[38;5;28;01mwhile\u001b[39;00m \u001b[38;5;129;01mnot\u001b[39;00m \u001b[43mis_integer\u001b[49m\u001b[43m(\u001b[49m\u001b[43mtabulation\u001b[49m\u001b[43m)\u001b[49m:\n\u001b[1;32m    254\u001b[0m     iteration_no \u001b[38;5;241m+\u001b[39m\u001b[38;5;241m=\u001b[39m \u001b[38;5;241m1\u001b[39m\n\u001b[1;32m    255\u001b[0m     \u001b[38;5;28mprint\u001b[39m(\u001b[38;5;124m\"\u001b[39m\u001b[38;5;124m#\u001b[39m\u001b[38;5;124m\"\u001b[39m\u001b[38;5;241m*\u001b[39m\u001b[38;5;241m30\u001b[39m \u001b[38;5;241m+\u001b[39m \u001b[38;5;124mf\u001b[39m\u001b[38;5;124m\"\u001b[39m\u001b[38;5;124m ITERATION NO. \u001b[39m\u001b[38;5;132;01m{\u001b[39;00miteration_no\u001b[38;5;132;01m}\u001b[39;00m\u001b[38;5;124m \u001b[39m\u001b[38;5;124m\"\u001b[39m \u001b[38;5;241m+\u001b[39m \u001b[38;5;124m\"\u001b[39m\u001b[38;5;124m#\u001b[39m\u001b[38;5;124m\"\u001b[39m\u001b[38;5;241m*\u001b[39m\u001b[38;5;241m30\u001b[39m)\n",
      "File \u001b[0;32m~/semester_8/OR/helper.py:235\u001b[0m, in \u001b[0;36minteger_program.<locals>.is_integer\u001b[0;34m(tabulation)\u001b[0m\n\u001b[1;32m    233\u001b[0m value \u001b[38;5;241m=\u001b[39m \u001b[38;5;28;01mTrue\u001b[39;00m\n\u001b[1;32m    234\u001b[0m \u001b[38;5;28;01mfor\u001b[39;00m sol \u001b[38;5;129;01min\u001b[39;00m tabulation[:, \u001b[38;5;241m-\u001b[39m\u001b[38;5;241m1\u001b[39m][\u001b[38;5;241m1\u001b[39m: ]:\n\u001b[0;32m--> 235\u001b[0m     \u001b[38;5;28;01mif\u001b[39;00m \u001b[43msol\u001b[49m\u001b[38;5;241;43m.\u001b[39;49m\u001b[43mdenominator\u001b[49m \u001b[38;5;241m!=\u001b[39m \u001b[38;5;241m1\u001b[39m: value \u001b[38;5;241m=\u001b[39m \u001b[38;5;28;01mFalse\u001b[39;00m; \u001b[38;5;28;01mbreak\u001b[39;00m\n\u001b[1;32m    236\u001b[0m \u001b[38;5;28;01mreturn\u001b[39;00m value\n",
      "\u001b[0;31mAttributeError\u001b[0m: 'numpy.float64' object has no attribute 'denominator'"
     ]
    }
   ],
   "source": [
    "integer_program(initial_tabulation, var_symbol_arr, basic_var_symbol_arr, OPT_TYPE)"
   ]
  },
  {
   "cell_type": "code",
   "execution_count": null,
   "metadata": {},
   "outputs": [],
   "source": []
  }
 ],
 "metadata": {
  "kernelspec": {
   "display_name": "Python 3",
   "language": "python",
   "name": "python3"
  },
  "language_info": {
   "codemirror_mode": {
    "name": "ipython",
    "version": 3
   },
   "file_extension": ".py",
   "mimetype": "text/x-python",
   "name": "python",
   "nbconvert_exporter": "python",
   "pygments_lexer": "ipython3",
   "version": "3.10.12"
  }
 },
 "nbformat": 4,
 "nbformat_minor": 2
}
