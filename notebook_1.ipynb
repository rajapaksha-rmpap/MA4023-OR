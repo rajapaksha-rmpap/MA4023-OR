{
 "cells": [
  {
   "cell_type": "code",
   "execution_count": 1,
   "metadata": {},
   "outputs": [],
   "source": [
    "import os, sys, copy\n",
    "\n",
    "import numpy as np\n",
    "from tabulate import tabulate\n",
    "\n",
    "from helper import visualize_tabulation, all_slack_starting, dual_simplex_to_all_slack_starting"
   ]
  },
  {
   "cell_type": "markdown",
   "metadata": {},
   "source": [
    "### Define the LP Problem"
   ]
  },
  {
   "cell_type": "code",
   "execution_count": 2,
   "metadata": {},
   "outputs": [],
   "source": [
    "# no. of decision variables (N)\n",
    "NO_OF_DECISION_VARS = 4\n",
    "\n",
    "# no. of conditions \n",
    "NO_OF_CONDITIONS = 3\n",
    "\n",
    "# --------------------------------- objective function ---------------------------------\n",
    "# specify the objective function in the format [<coefficient_1>, <coefficient_2>, ..., <coefficient_N>]\n",
    "OBJ_FUNC = [4, 5, 9, 11]\n",
    "\n",
    "# -------------------------------- type of optimization --------------------------------\n",
    "OPT_TYPE = \"MAX\" # or \"MIN\" \n",
    "\n",
    "# ------------------------------------- conditions -------------------------------------\n",
    "# specify each condition in a new row with the format [<coefficient_1>, <coefficient_2>, ..., <coefficient_N>, <solution>]\n",
    "conditions = [\n",
    "    [  1,   1,   1,   1,  15],\n",
    "    [  7,   5,   3,   2, 120],\n",
    "    [  3,   5,  10,  15, 100],\n",
    "]"
   ]
  },
  {
   "cell_type": "markdown",
   "metadata": {},
   "source": [
    "### Create the Variables and the Initial Tabulation"
   ]
  },
  {
   "cell_type": "code",
   "execution_count": 3,
   "metadata": {},
   "outputs": [
    {
     "name": "stdout",
     "output_type": "stream",
     "text": [
      "variables: ['P', 'X1', 'X2', 'X3', 'X4', 'S1', 'S2', 'S3']\n",
      "basic variables: ['P', 'S1', 'S2', 'S3']\n"
     ]
    }
   ],
   "source": [
    "var_symbol_arr = []\n",
    "basic_var_symbol_arr = []\n",
    "\n",
    "OBJ_FUNC_VAR_SYMBOL = \"P\"\n",
    "DECISION_VAR_SYMBOL = \"X\"\n",
    "SLACK_VAR_SYMBOL    = \"S\"\n",
    "\n",
    "# ========================= ALL THE VARIABLES =========================\n",
    "var_symbol_arr.append(OBJ_FUNC_VAR_SYMBOL)\n",
    "\n",
    "for i in range(NO_OF_DECISION_VARS):\n",
    "    var_symbol_arr.append(DECISION_VAR_SYMBOL + str(i+1))\n",
    "\n",
    "for i in range(NO_OF_CONDITIONS):\n",
    "    var_symbol_arr.append(SLACK_VAR_SYMBOL + str(i+1))\n",
    "\n",
    "print(\"variables:\", var_symbol_arr)\n",
    "\n",
    "# ========================== BASIC VARIABLES ==========================\n",
    "basic_var_symbol_arr.append(OBJ_FUNC_VAR_SYMBOL)\n",
    "\n",
    "for i in range(NO_OF_CONDITIONS):\n",
    "    basic_var_symbol_arr.append(SLACK_VAR_SYMBOL + str(i+1))\n",
    "\n",
    "print(\"basic variables:\", basic_var_symbol_arr)"
   ]
  },
  {
   "cell_type": "code",
   "execution_count": 4,
   "metadata": {},
   "outputs": [],
   "source": [
    "# verify the elements\n",
    "OBJ_FUNC = np.array(OBJ_FUNC)\n",
    "if len(OBJ_FUNC) != NO_OF_DECISION_VARS:\n",
    "    raise Exception(f\"the no. of coefficients in the objective function doesn't match tne number of decision variables...\")\n",
    "\n",
    "conditions = np.array(conditions)\n",
    "if len(conditions) != NO_OF_CONDITIONS:\n",
    "    raise Exception(f\"the no. of specified conditions doesn't match 'NO_OF_CONDITIONS'...\")\n",
    "if len(conditions[0]) != NO_OF_DECISION_VARS + 1:\n",
    "    raise Exception(f\"the no. of coefficients in the conditions doesn't match tne number of decision variables...\")"
   ]
  },
  {
   "cell_type": "code",
   "execution_count": 5,
   "metadata": {},
   "outputs": [
    {
     "name": "stdout",
     "output_type": "stream",
     "text": [
      "┌────┬─────┬──────┬──────┬──────┬──────┬──────┬──────┬──────┬───────┐\n",
      "│    │   P │   X1 │   X2 │   X3 │   X4 │   S1 │   S2 │   S3 │   sol │\n",
      "├────┼─────┼──────┼──────┼──────┼──────┼──────┼──────┼──────┼───────┤\n",
      "│ P  │   1 │   -4 │   -5 │   -9 │  -11 │    0 │    0 │    0 │     0 │\n",
      "├────┼─────┼──────┼──────┼──────┼──────┼──────┼──────┼──────┼───────┤\n",
      "│ S1 │   0 │    1 │    1 │    1 │    1 │    1 │    0 │    0 │    15 │\n",
      "├────┼─────┼──────┼──────┼──────┼──────┼──────┼──────┼──────┼───────┤\n",
      "│ S2 │   0 │    7 │    5 │    3 │    2 │    0 │    1 │    0 │   120 │\n",
      "├────┼─────┼──────┼──────┼──────┼──────┼──────┼──────┼──────┼───────┤\n",
      "│ S3 │   0 │    3 │    5 │   10 │   15 │    0 │    0 │    1 │   100 │\n",
      "└────┴─────┴──────┴──────┴──────┴──────┴──────┴──────┴──────┴───────┘\n"
     ]
    }
   ],
   "source": [
    "# find the size of a row\n",
    "row_size = 1 + NO_OF_DECISION_VARS + NO_OF_CONDITIONS + 1\n",
    "\n",
    "# find the column size\n",
    "col_size = 1 + NO_OF_CONDITIONS # no. of basic vars = 1 (for objective function) + no. of conditions\n",
    "\n",
    "# construct the initial tabulation\n",
    "obj_func_row = np.concatenate(([1], -OBJ_FUNC, np.zeros([NO_OF_CONDITIONS]), [0]))\n",
    "initial_tabulation = obj_func_row.reshape((1, -1))\n",
    "\n",
    "for i in range(1, col_size):\n",
    "\n",
    "    # condition rows\n",
    "    temp = np.zeros([NO_OF_CONDITIONS])\n",
    "    temp[i-1] = 1\n",
    "    row = np.concatenate(([0], conditions[i-1][ :-1], temp, conditions[i-1][-1: ])).reshape((1, -1))\n",
    "\n",
    "    initial_tabulation = np.concatenate((initial_tabulation, row), axis=0)\n",
    "\n",
    "visualize_tabulation(initial_tabulation, all_vars=var_symbol_arr, basic_vars=basic_var_symbol_arr)"
   ]
  },
  {
   "cell_type": "markdown",
   "metadata": {},
   "source": [
    "### Perform the All-Slack Starting Method"
   ]
  },
  {
   "cell_type": "code",
   "execution_count": 6,
   "metadata": {},
   "outputs": [
    {
     "name": "stdout",
     "output_type": "stream",
     "text": [
      "==================== iteration no.: 1 ====================\n",
      "entering var: X4\n",
      "pivot col: [-11.   1.   2.  15.]\n",
      "solution : [  0.  15. 120. 100.]\n",
      "ratio col: [-0.         15.         60.          6.66666667]\n",
      "leaving var : S3\n",
      "pivot row: [  0.   3.   5.  10.  15.   0.   0.   1. 100.]\n",
      "new basic variables: ['P', 'S1', 'S2', 'X4']\n",
      "┌────┬─────┬──────┬─────────┬─────────┬──────┬──────┬──────┬─────────┬──────────┐\n",
      "│    │   P │   X1 │      X2 │      X3 │   X4 │   S1 │   S2 │      S3 │      sol │\n",
      "├────┼─────┼──────┼─────────┼─────────┼──────┼──────┼──────┼─────────┼──────────┤\n",
      "│ P  │   1 │ -1.8 │ -1.3333 │ -1.6667 │    0 │    0 │    0 │  0.7333 │  73.3333 │\n",
      "├────┼─────┼──────┼─────────┼─────────┼──────┼──────┼──────┼─────────┼──────────┤\n",
      "│ S1 │   0 │  0.8 │  0.6667 │  0.3333 │    0 │    1 │    0 │ -0.0667 │   8.3333 │\n",
      "├────┼─────┼──────┼─────────┼─────────┼──────┼──────┼──────┼─────────┼──────────┤\n",
      "│ S2 │   0 │  6.6 │  4.3333 │  1.6667 │    0 │    0 │    1 │ -0.1333 │ 106.667  │\n",
      "├────┼─────┼──────┼─────────┼─────────┼──────┼──────┼──────┼─────────┼──────────┤\n",
      "│ X4 │   0 │  0.2 │  0.3333 │  0.6667 │    1 │    0 │    0 │  0.0667 │   6.6667 │\n",
      "└────┴─────┴──────┴─────────┴─────────┴──────┴──────┴──────┴─────────┴──────────┘\n",
      "the tabulation is feasible.\n",
      "\n",
      "\n",
      "==================== iteration no.: 2 ====================\n",
      "entering var: X1\n",
      "pivot col: [-1.8  0.8  6.6  0.2]\n",
      "solution : [ 73.33333333   8.33333333 106.66666667   6.66666667]\n",
      "ratio col: [-40.74074074  10.41666667  16.16161616  33.33333333]\n",
      "leaving var : S1\n",
      "pivot row: [ 0.          0.8         0.66666667  0.33333333  0.          1.\n",
      "  0.         -0.06666667  8.33333333]\n",
      "new basic variables: ['P', 'X1', 'S2', 'X4']\n",
      "┌────┬─────┬──────┬─────────┬─────────┬──────┬───────┬──────┬─────────┬─────────┐\n",
      "│    │   P │   X1 │      X2 │      X3 │   X4 │    S1 │   S2 │      S3 │     sol │\n",
      "├────┼─────┼──────┼─────────┼─────────┼──────┼───────┼──────┼─────────┼─────────┤\n",
      "│ P  │   1 │    0 │  0.1667 │ -0.9167 │    0 │  2.25 │    0 │  0.5833 │ 92.0833 │\n",
      "├────┼─────┼──────┼─────────┼─────────┼──────┼───────┼──────┼─────────┼─────────┤\n",
      "│ X1 │   0 │    1 │  0.8333 │  0.4167 │    0 │  1.25 │    0 │ -0.0833 │ 10.4167 │\n",
      "├────┼─────┼──────┼─────────┼─────────┼──────┼───────┼──────┼─────────┼─────────┤\n",
      "│ S2 │   0 │    0 │ -1.1667 │ -1.0833 │    0 │ -8.25 │    1 │  0.4167 │ 37.9167 │\n",
      "├────┼─────┼──────┼─────────┼─────────┼──────┼───────┼──────┼─────────┼─────────┤\n",
      "│ X4 │   0 │    0 │  0.1667 │  0.5833 │    1 │ -0.25 │    0 │  0.0833 │  4.5833 │\n",
      "└────┴─────┴──────┴─────────┴─────────┴──────┴───────┴──────┴─────────┴─────────┘\n",
      "the tabulation is feasible.\n",
      "\n",
      "\n",
      "==================== iteration no.: 3 ====================\n",
      "entering var: X3\n",
      "pivot col: [-0.91666667  0.41666667 -1.08333333  0.58333333]\n",
      "solution : [92.08333333 10.41666667 37.91666667  4.58333333]\n",
      "ratio col: [-100.45454545   25.          -35.            7.85714286]\n",
      "leaving var : X4\n",
      "pivot row: [ 0.          0.          0.16666667  0.58333333  1.         -0.25\n",
      "  0.          0.08333333  4.58333333]\n",
      "new basic variables: ['P', 'X1', 'S2', 'X3']\n",
      "┌────┬─────┬──────┬─────────┬──────┬─────────┬─────────┬──────┬─────────┬─────────┐\n",
      "│    │   P │   X1 │      X2 │   X3 │      X4 │      S1 │   S2 │      S3 │     sol │\n",
      "├────┼─────┼──────┼─────────┼──────┼─────────┼─────────┼──────┼─────────┼─────────┤\n",
      "│ P  │   1 │    0 │  0.4286 │    0 │  1.5714 │  1.8571 │    0 │  0.7143 │ 99.2857 │\n",
      "├────┼─────┼──────┼─────────┼──────┼─────────┼─────────┼──────┼─────────┼─────────┤\n",
      "│ X1 │   0 │    1 │  0.7143 │    0 │ -0.7143 │  1.4286 │    0 │ -0.1429 │  7.1429 │\n",
      "├────┼─────┼──────┼─────────┼──────┼─────────┼─────────┼──────┼─────────┼─────────┤\n",
      "│ S2 │   0 │    0 │ -0.8571 │    0 │  1.8571 │ -8.7143 │    1 │  0.5714 │ 46.4286 │\n",
      "├────┼─────┼──────┼─────────┼──────┼─────────┼─────────┼──────┼─────────┼─────────┤\n",
      "│ X3 │   0 │    0 │  0.2857 │    1 │  1.7143 │ -0.4286 │    0 │  0.1429 │  7.8571 │\n",
      "└────┴─────┴──────┴─────────┴──────┴─────────┴─────────┴──────┴─────────┴─────────┘\n",
      "the tabulation is feasible.\n",
      "\n",
      "\n",
      "*****there are no more negative values in the objective row; tabulation is optimal...*****\n",
      "\n",
      "S1 1.857142857142857\n",
      "S3 0.7142857142857143\n",
      "X2 0.4285714285714285\n",
      "X4 1.571428571428572\n"
     ]
    }
   ],
   "source": [
    "# obtain the optimal tabulation\n",
    "optimal_tabulation, basic_var_symbol_arr = all_slack_starting(initial_tabulation, all_vars=var_symbol_arr, basic_vars=basic_var_symbol_arr, opt_type=OPT_TYPE)"
   ]
  },
  {
   "cell_type": "markdown",
   "metadata": {},
   "source": [
    "**What are the underutilized resources here?** \n",
    "\n",
    "- resource 2 (46.4286 extra)\n",
    "\n",
    "**What happens if we reduce the available material 2 resource by an amount of 60?**"
   ]
  },
  {
   "cell_type": "code",
   "execution_count": 8,
   "metadata": {},
   "outputs": [],
   "source": [
    "# extract 'contribution margin matrix'\n",
    "contribution_margin_matrix = optimal_tabulation[:, [0, 5, 6, 7]]"
   ]
  },
  {
   "cell_type": "code",
   "execution_count": 19,
   "metadata": {},
   "outputs": [
    {
     "data": {
      "text/plain": [
       "array([[ 1.        ,  1.85714286,  0.        ,  0.71428571],\n",
       "       [ 0.        ,  1.42857143,  0.        , -0.14285714],\n",
       "       [ 0.        , -8.71428571,  1.        ,  0.57142857],\n",
       "       [ 0.        , -0.42857143,  0.        ,  0.14285714]])"
      ]
     },
     "execution_count": 19,
     "metadata": {},
     "output_type": "execute_result"
    }
   ],
   "source": [
    "contribution_margin_matrix"
   ]
  },
  {
   "cell_type": "code",
   "execution_count": 10,
   "metadata": {},
   "outputs": [],
   "source": [
    "# find the new solution column in the initial tabulation after the change\n",
    "new_init_solution = np.array([0, 15, 60, 100]).reshape((-1, 1))"
   ]
  },
  {
   "cell_type": "code",
   "execution_count": 14,
   "metadata": {},
   "outputs": [
    {
     "name": "stdout",
     "output_type": "stream",
     "text": [
      "new optimal solution column: \n",
      "[[ 99.28571429]\n",
      " [  7.14285714]\n",
      " [-13.57142857]\n",
      " [  7.85714286]]\n"
     ]
    }
   ],
   "source": [
    "# find the new solution column in the new final optimal tabulation\n",
    "new_opt_solution = (contribution_margin_matrix @ new_init_solution)\n",
    "print(f\"new optimal solution column: \\n{new_opt_solution}\")"
   ]
  },
  {
   "cell_type": "code",
   "execution_count": 16,
   "metadata": {},
   "outputs": [],
   "source": [
    "# find the new optimal tabulation\n",
    "new_optimal_tabulation = copy.deepcopy(optimal_tabulation)\n",
    "new_optimal_tabulation[:, -1] = new_opt_solution.reshape((-1, ))"
   ]
  },
  {
   "cell_type": "code",
   "execution_count": 18,
   "metadata": {},
   "outputs": [
    {
     "name": "stdout",
     "output_type": "stream",
     "text": [
      "====================DUAL SIMPLEX - iteration no.: 1====================\n",
      "leaving variale : S2\n",
      "ratio row       : [       inf        nan 0.5               nan 0.84615385 0.21311475\n",
      " 0.         1.25       7.31578947]\n",
      "entering variale: S1\n",
      "┌────┬─────┬──────┬────────┬──────┬─────────┬──────┬─────────┬─────────┬─────────┐\n",
      "│    │   P │   X1 │     X2 │   X3 │      X4 │   S1 │      S2 │      S3 │     sol │\n",
      "├────┼─────┼──────┼────────┼──────┼─────────┼──────┼─────────┼─────────┼─────────┤\n",
      "│ P  │   1 │    0 │ 0.2459 │    0 │  1.9672 │    0 │  0.2131 │  0.8361 │ 96.3934 │\n",
      "├────┼─────┼──────┼────────┼──────┼─────────┼──────┼─────────┼─────────┼─────────┤\n",
      "│ X1 │   0 │    1 │ 0.5738 │    0 │ -0.4098 │    0 │  0.1639 │ -0.0492 │  4.918  │\n",
      "├────┼─────┼──────┼────────┼──────┼─────────┼──────┼─────────┼─────────┼─────────┤\n",
      "│ S1 │  -0 │   -0 │ 0.0984 │   -0 │ -0.2131 │    1 │ -0.1148 │ -0.0656 │  1.5574 │\n",
      "├────┼─────┼──────┼────────┼──────┼─────────┼──────┼─────────┼─────────┼─────────┤\n",
      "│ X3 │   0 │    0 │ 0.3279 │    1 │  1.623  │    0 │ -0.0492 │  0.1148 │  8.5246 │\n",
      "└────┴─────┴──────┴────────┴──────┴─────────┴──────┴─────────┴─────────┴─────────┘\n",
      "\n",
      "\n"
     ]
    },
    {
     "name": "stderr",
     "output_type": "stream",
     "text": [
      "/home/akila/semester_8/OR/helper.py:148: RuntimeWarning: divide by zero encountered in divide\n",
      "  ratio_row = np.abs(tabulation[0]) / np.abs(tabulation[pivot_row_idx])\n",
      "/home/akila/semester_8/OR/helper.py:148: RuntimeWarning: invalid value encountered in divide\n",
      "  ratio_row = np.abs(tabulation[0]) / np.abs(tabulation[pivot_row_idx])\n"
     ]
    }
   ],
   "source": [
    "# apply dual-simplex method to make the tabulation feasible\n",
    "feasible_new_tabulation, basic_var_symbol_arr = dual_simplex_to_all_slack_starting(new_optimal_tabulation, all_vars=var_symbol_arr, basic_vars=basic_var_symbol_arr)"
   ]
  },
  {
   "cell_type": "markdown",
   "metadata": {},
   "source": [
    "**How to find the Maximum Change in the fully-utilized resource 1 such that the production mix is not going to change?**"
   ]
  },
  {
   "cell_type": "code",
   "execution_count": 20,
   "metadata": {},
   "outputs": [
    {
     "data": {
      "text/plain": [
       "array([-53.46153846,  -5.        ,   5.32786885,  18.33333333])"
      ]
     },
     "execution_count": 20,
     "metadata": {},
     "output_type": "execute_result"
    }
   ],
   "source": [
    "-optimal_tabulation[:, -1] / contribution_margin_matrix[:, 1]"
   ]
  },
  {
   "cell_type": "markdown",
   "metadata": {},
   "source": [
    "**A new constraint is added...**"
   ]
  },
  {
   "cell_type": "code",
   "execution_count": 67,
   "metadata": {},
   "outputs": [],
   "source": [
    "import pandas as pd\n",
    "\n",
    "def save_tabulation(tabulation, all_vars, basic_vars, file_name):\n",
    "\n",
    "    if not file_name.endswith('.csv'): file_name += '.csv'\n",
    "\n",
    "    columns_labels = copy.deepcopy(all_vars)\n",
    "    columns_labels.append(\"sol\")\n",
    "\n",
    "    DF = pd.DataFrame(tabulation, index=basic_vars, columns=columns_labels)\n",
    "    DF.to_csv(file_name)\n",
    "\n",
    "def load_tabulation(file_name):\n",
    "\n",
    "    if not file_name.endswith('.csv'): file_name += '.csv'\n",
    "\n",
    "    DF = pd.read_csv(file_name, index_col=0)  # Assuming the row labels are stored in the first column\n",
    "    tabulation = DF.values\n",
    "    basic_vars = DF.index.tolist()\n",
    "    all_vars = DF.columns.tolist()\n",
    "\n",
    "    return tabulation, all_vars, basic_vars"
   ]
  },
  {
   "cell_type": "code",
   "execution_count": 68,
   "metadata": {},
   "outputs": [],
   "source": [
    "save_tabulation(optimal_tabulation, var_symbol_arr, basic_var_symbol_arr, 'opt_table')"
   ]
  },
  {
   "cell_type": "code",
   "execution_count": null,
   "metadata": {},
   "outputs": [],
   "source": []
  }
 ],
 "metadata": {
  "kernelspec": {
   "display_name": "Python 3",
   "language": "python",
   "name": "python3"
  },
  "language_info": {
   "codemirror_mode": {
    "name": "ipython",
    "version": 3
   },
   "file_extension": ".py",
   "mimetype": "text/x-python",
   "name": "python",
   "nbconvert_exporter": "python",
   "pygments_lexer": "ipython3",
   "version": "3.10.12"
  }
 },
 "nbformat": 4,
 "nbformat_minor": 2
}
