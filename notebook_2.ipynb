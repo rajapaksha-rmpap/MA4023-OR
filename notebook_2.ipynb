{
 "cells": [
  {
   "cell_type": "code",
   "execution_count": 16,
   "metadata": {},
   "outputs": [],
   "source": [
    "import os, sys, copy\n",
    "\n",
    "import numpy as np\n",
    "import pandas as pd\n",
    "\n",
    "from tabulate import tabulate\n",
    "from fractions import Fraction\n",
    "\n",
    "from helper import visualize_tabulation, all_slack_starting, dual_simplex_to_all_slack_starting, save_tabulation, load_tabulation"
   ]
  },
  {
   "cell_type": "markdown",
   "metadata": {},
   "source": [
    "### Define the LP Problem"
   ]
  },
  {
   "cell_type": "code",
   "execution_count": 2,
   "metadata": {},
   "outputs": [],
   "source": [
    "# no. of decision variables (N)\n",
    "NO_OF_DECISION_VARS = 4\n",
    "\n",
    "# no. of conditions \n",
    "NO_OF_CONDITIONS = 3\n",
    "\n",
    "# --------------------------------- objective function ---------------------------------\n",
    "# specify the objective function in the format [<coefficient_1>, <coefficient_2>, ..., <coefficient_N>]\n",
    "OBJ_FUNC = [4, 5, 9, 11]\n",
    "\n",
    "# -------------------------------- type of optimization --------------------------------\n",
    "OPT_TYPE = \"MAX\" # or \"MIN\" \n",
    "\n",
    "# ------------------------------------- conditions -------------------------------------\n",
    "# specify each condition in a new row with the format [<coefficient_1>, <coefficient_2>, ..., <coefficient_N>, <solution>]\n",
    "conditions = [\n",
    "    [  1,   1,   1,   1,  15],\n",
    "    [  7,   5,   3,   2, 120],\n",
    "    [  3,   5,  10,  15, 100],\n",
    "]"
   ]
  },
  {
   "cell_type": "code",
   "execution_count": 3,
   "metadata": {},
   "outputs": [],
   "source": [
    "# convert them to fractions\n",
    "OBJ_FUNC = np.array(list(map(Fraction, OBJ_FUNC)))\n",
    "\n",
    "for i in range(len(conditions)):\n",
    "    conditions[i] = list(map(Fraction, conditions[i]))\n",
    "\n",
    "conditions = np.array(conditions)"
   ]
  },
  {
   "cell_type": "markdown",
   "metadata": {},
   "source": [
    "### Create the Variables and the Initial Tabulation"
   ]
  },
  {
   "cell_type": "code",
   "execution_count": 4,
   "metadata": {},
   "outputs": [
    {
     "name": "stdout",
     "output_type": "stream",
     "text": [
      "variables: ['P', 'X1', 'X2', 'X3', 'X4', 'S1', 'S2', 'S3']\n",
      "basic variables: ['P', 'S1', 'S2', 'S3']\n"
     ]
    }
   ],
   "source": [
    "var_symbol_arr = []\n",
    "basic_var_symbol_arr = []\n",
    "\n",
    "OBJ_FUNC_VAR_SYMBOL = \"P\"\n",
    "DECISION_VAR_SYMBOL = \"X\"\n",
    "SLACK_VAR_SYMBOL    = \"S\"\n",
    "\n",
    "# ========================= ALL THE VARIABLES =========================\n",
    "var_symbol_arr.append(OBJ_FUNC_VAR_SYMBOL)\n",
    "\n",
    "for i in range(NO_OF_DECISION_VARS):\n",
    "    var_symbol_arr.append(DECISION_VAR_SYMBOL + str(i+1))\n",
    "\n",
    "for i in range(NO_OF_CONDITIONS):\n",
    "    var_symbol_arr.append(SLACK_VAR_SYMBOL + str(i+1))\n",
    "\n",
    "print(\"variables:\", var_symbol_arr)\n",
    "\n",
    "# ========================== BASIC VARIABLES ==========================\n",
    "basic_var_symbol_arr.append(OBJ_FUNC_VAR_SYMBOL)\n",
    "\n",
    "for i in range(NO_OF_CONDITIONS):\n",
    "    basic_var_symbol_arr.append(SLACK_VAR_SYMBOL + str(i+1))\n",
    "\n",
    "print(\"basic variables:\", basic_var_symbol_arr)"
   ]
  },
  {
   "cell_type": "code",
   "execution_count": 5,
   "metadata": {},
   "outputs": [],
   "source": [
    "# verify the elements\n",
    "OBJ_FUNC = np.array(OBJ_FUNC)\n",
    "if len(OBJ_FUNC) != NO_OF_DECISION_VARS:\n",
    "    raise Exception(f\"the no. of coefficients in the objective function doesn't match tne number of decision variables...\")\n",
    "\n",
    "conditions = np.array(conditions)\n",
    "if len(conditions) != NO_OF_CONDITIONS:\n",
    "    raise Exception(f\"the no. of specified conditions doesn't match 'NO_OF_CONDITIONS'...\")\n",
    "if len(conditions[0]) != NO_OF_DECISION_VARS + 1:\n",
    "    raise Exception(f\"the no. of coefficients in the conditions doesn't match tne number of decision variables...\")"
   ]
  },
  {
   "cell_type": "code",
   "execution_count": 6,
   "metadata": {},
   "outputs": [
    {
     "name": "stdout",
     "output_type": "stream",
     "text": [
      "┌────┬─────┬──────┬──────┬──────┬──────┬──────┬──────┬──────┬───────┐\n",
      "│    │   P │   X1 │   X2 │   X3 │   X4 │   S1 │   S2 │   S3 │   sol │\n",
      "├────┼─────┼──────┼──────┼──────┼──────┼──────┼──────┼──────┼───────┤\n",
      "│ P  │   1 │   -4 │   -5 │   -9 │  -11 │    0 │    0 │    0 │     0 │\n",
      "├────┼─────┼──────┼──────┼──────┼──────┼──────┼──────┼──────┼───────┤\n",
      "│ S1 │   0 │    1 │    1 │    1 │    1 │    1 │    0 │    0 │    15 │\n",
      "├────┼─────┼──────┼──────┼──────┼──────┼──────┼──────┼──────┼───────┤\n",
      "│ S2 │   0 │    7 │    5 │    3 │    2 │    0 │    1 │    0 │   120 │\n",
      "├────┼─────┼──────┼──────┼──────┼──────┼──────┼──────┼──────┼───────┤\n",
      "│ S3 │   0 │    3 │    5 │   10 │   15 │    0 │    0 │    1 │   100 │\n",
      "└────┴─────┴──────┴──────┴──────┴──────┴──────┴──────┴──────┴───────┘\n"
     ]
    }
   ],
   "source": [
    "# find the size of a row\n",
    "row_size = 1 + NO_OF_DECISION_VARS + NO_OF_CONDITIONS + 1\n",
    "\n",
    "# find the column size\n",
    "col_size = 1 + NO_OF_CONDITIONS # no. of basic vars = 1 (for objective function) + no. of conditions\n",
    "\n",
    "# construct the initial tabulation\n",
    "obj_func_row = np.concatenate(([1], -OBJ_FUNC, np.zeros([NO_OF_CONDITIONS]), [0]))\n",
    "initial_tabulation = obj_func_row.reshape((1, -1))\n",
    "\n",
    "for i in range(1, col_size):\n",
    "\n",
    "    # condition rows\n",
    "    temp = np.zeros([NO_OF_CONDITIONS])\n",
    "    temp[i-1] = 1\n",
    "    row = np.concatenate(([0], conditions[i-1][ :-1], temp, conditions[i-1][-1: ])).reshape((1, -1))\n",
    "\n",
    "    initial_tabulation = np.concatenate((initial_tabulation, row), axis=0)\n",
    "\n",
    "# convert all the elements into fractions\n",
    "for i in range(initial_tabulation.shape[0]):\n",
    "    initial_tabulation[i] = np.array(list(map(Fraction, initial_tabulation[i])))\n",
    "\n",
    "visualize_tabulation(initial_tabulation, all_vars=var_symbol_arr, basic_vars=basic_var_symbol_arr)"
   ]
  },
  {
   "cell_type": "markdown",
   "metadata": {},
   "source": [
    "### Perform the All-Slack Starting Method"
   ]
  },
  {
   "cell_type": "code",
   "execution_count": 7,
   "metadata": {},
   "outputs": [
    {
     "name": "stdout",
     "output_type": "stream",
     "text": [
      "==================== iteration no.: 1 ====================\n",
      "entering var: X4\n",
      "pivot col: [Fraction(-11, 1) Fraction(1, 1) Fraction(2, 1) Fraction(15, 1)]\n",
      "solution : [Fraction(0, 1) Fraction(15, 1) Fraction(120, 1) Fraction(100, 1)]\n",
      "ratio col: [-0.         15.         60.          6.66666667]\n",
      "leaving var : S3\n",
      "pivot row: [Fraction(0, 1) Fraction(3, 1) Fraction(5, 1) Fraction(10, 1)\n",
      " Fraction(15, 1) Fraction(0, 1) Fraction(0, 1) Fraction(1, 1)\n",
      " Fraction(100, 1)]\n",
      "new basic variables: ['P', 'S1', 'S2', 'X4']\n",
      "┌────┬─────┬──────┬───────────┬───────────┬──────┬──────┬──────┬────────────┬───────────┐\n",
      "│    │   P │   X1 │        X2 │        X3 │   X4 │   S1 │   S2 │         S3 │       sol │\n",
      "├────┼─────┼──────┼───────────┼───────────┼──────┼──────┼──────┼────────────┼───────────┤\n",
      "│ P  │   1 │ -1.8 │ -1.33333  │ -1.66667  │    0 │    0 │    0 │  0.733333  │  73.3333  │\n",
      "├────┼─────┼──────┼───────────┼───────────┼──────┼──────┼──────┼────────────┼───────────┤\n",
      "│ S1 │   0 │  0.8 │  0.666667 │  0.333333 │    0 │    1 │    0 │ -0.0666667 │   8.33333 │\n",
      "├────┼─────┼──────┼───────────┼───────────┼──────┼──────┼──────┼────────────┼───────────┤\n",
      "│ S2 │   0 │  6.6 │  4.33333  │  1.66667  │    0 │    0 │    1 │ -0.133333  │ 106.667   │\n",
      "├────┼─────┼──────┼───────────┼───────────┼──────┼──────┼──────┼────────────┼───────────┤\n",
      "│ X4 │   0 │  0.2 │  0.333333 │  0.666667 │    1 │    0 │    0 │  0.0666667 │   6.66667 │\n",
      "└────┴─────┴──────┴───────────┴───────────┴──────┴──────┴──────┴────────────┴───────────┘\n",
      "the tabulation is feasible.\n",
      "\n",
      "\n",
      "==================== iteration no.: 2 ====================\n",
      "entering var: X1\n",
      "pivot col: [Fraction(-9, 5) Fraction(4, 5) Fraction(33, 5) Fraction(1, 5)]\n",
      "solution : [Fraction(220, 3) Fraction(25, 3) Fraction(320, 3) Fraction(20, 3)]\n",
      "ratio col: [-40.74074074  10.41666667  16.16161616  33.33333333]\n",
      "leaving var : S1\n",
      "pivot row: [Fraction(0, 1) Fraction(4, 5) Fraction(2, 3) Fraction(1, 3)\n",
      " Fraction(0, 1) Fraction(1, 1) Fraction(0, 1) Fraction(-1, 15)\n",
      " Fraction(25, 3)]\n",
      "new basic variables: ['P', 'X1', 'S2', 'X4']\n",
      "┌────┬─────┬──────┬───────────┬───────────┬──────┬───────┬──────┬────────────┬──────────┐\n",
      "│    │   P │   X1 │        X2 │        X3 │   X4 │    S1 │   S2 │         S3 │      sol │\n",
      "├────┼─────┼──────┼───────────┼───────────┼──────┼───────┼──────┼────────────┼──────────┤\n",
      "│ P  │   1 │    0 │  0.166667 │ -0.916667 │    0 │  2.25 │    0 │  0.583333  │ 92.0833  │\n",
      "├────┼─────┼──────┼───────────┼───────────┼──────┼───────┼──────┼────────────┼──────────┤\n",
      "│ X1 │   0 │    1 │  0.833333 │  0.416667 │    0 │  1.25 │    0 │ -0.0833333 │ 10.4167  │\n",
      "├────┼─────┼──────┼───────────┼───────────┼──────┼───────┼──────┼────────────┼──────────┤\n",
      "│ S2 │   0 │    0 │ -1.16667  │ -1.08333  │    0 │ -8.25 │    1 │  0.416667  │ 37.9167  │\n",
      "├────┼─────┼──────┼───────────┼───────────┼──────┼───────┼──────┼────────────┼──────────┤\n",
      "│ X4 │   0 │    0 │  0.166667 │  0.583333 │    1 │ -0.25 │    0 │  0.0833333 │  4.58333 │\n",
      "└────┴─────┴──────┴───────────┴───────────┴──────┴───────┴──────┴────────────┴──────────┘\n",
      "the tabulation is feasible.\n",
      "\n",
      "\n",
      "==================== iteration no.: 3 ====================\n",
      "entering var: X3\n",
      "pivot col: [Fraction(-11, 12) Fraction(5, 12) Fraction(-13, 12) Fraction(7, 12)]\n",
      "solution : [Fraction(1105, 12) Fraction(125, 12) Fraction(455, 12) Fraction(55, 12)]\n",
      "ratio col: [-100.45454545   25.          -35.            7.85714286]\n",
      "leaving var : X4\n",
      "pivot row: [Fraction(0, 1) Fraction(0, 1) Fraction(1, 6) Fraction(7, 12)\n",
      " Fraction(1, 1) Fraction(-1, 4) Fraction(0, 1) Fraction(1, 12)\n",
      " Fraction(55, 12)]\n",
      "new basic variables: ['P', 'X1', 'S2', 'X3']\n",
      "┌────┬─────┬──────┬───────────┬──────┬───────────┬───────────┬──────┬───────────┬──────────┐\n",
      "│    │   P │   X1 │        X2 │   X3 │        X4 │        S1 │   S2 │        S3 │      sol │\n",
      "├────┼─────┼──────┼───────────┼──────┼───────────┼───────────┼──────┼───────────┼──────────┤\n",
      "│ P  │   1 │    0 │  0.428571 │    0 │  1.57143  │  1.85714  │    0 │  0.714286 │ 99.2857  │\n",
      "├────┼─────┼──────┼───────────┼──────┼───────────┼───────────┼──────┼───────────┼──────────┤\n",
      "│ X1 │   0 │    1 │  0.714286 │    0 │ -0.714286 │  1.42857  │    0 │ -0.142857 │  7.14286 │\n",
      "├────┼─────┼──────┼───────────┼──────┼───────────┼───────────┼──────┼───────────┼──────────┤\n",
      "│ S2 │   0 │    0 │ -0.857143 │    0 │  1.85714  │ -8.71429  │    1 │  0.571429 │ 46.4286  │\n",
      "├────┼─────┼──────┼───────────┼──────┼───────────┼───────────┼──────┼───────────┼──────────┤\n",
      "│ X3 │   0 │    0 │  0.285714 │    1 │  1.71429  │ -0.428571 │    0 │  0.142857 │  7.85714 │\n",
      "└────┴─────┴──────┴───────────┴──────┴───────────┴───────────┴──────┴───────────┴──────────┘\n",
      "the tabulation is feasible.\n",
      "\n",
      "\n",
      "*****there are no more negative values in the objective row; tabulation is optimal...*****\n",
      "\n",
      "S1 13/7\n",
      "S3 5/7\n",
      "X2 3/7\n",
      "X4 11/7\n"
     ]
    }
   ],
   "source": [
    "# obtain the optimal tabulation\n",
    "optimal_tabulation, basic_var_symbol_arr = all_slack_starting(initial_tabulation, all_vars=var_symbol_arr, basic_vars=basic_var_symbol_arr, opt_type=OPT_TYPE)"
   ]
  },
  {
   "cell_type": "markdown",
   "metadata": {},
   "source": [
    "### Adding a New Constraint"
   ]
  },
  {
   "cell_type": "code",
   "execution_count": 7,
   "metadata": {},
   "outputs": [],
   "source": [
    "# save the optimal tabulation\n",
    "save_tabulation(optimal_tabulation, all_vars=var_symbol_arr, basic_vars=basic_var_symbol_arr, file_name=\"opt_tabulation\")"
   ]
  },
  {
   "cell_type": "code",
   "execution_count": 14,
   "metadata": {},
   "outputs": [],
   "source": [
    "# load the modified tabulation\n",
    "modified_tabulation, var_symbol_arr_, basic_var_symnbol_arr_ = load_tabulation(file_name=\"opt_tabulation\")"
   ]
  },
  {
   "cell_type": "code",
   "execution_count": 15,
   "metadata": {},
   "outputs": [
    {
     "name": "stdout",
     "output_type": "stream",
     "text": [
      "┌────┬─────┬──────┬─────────┬──────┬─────────┬─────────┬──────┬─────────┬──────┬─────────┐\n",
      "│    │   P │   X1 │      X2 │   X3 │      X4 │      S1 │   S2 │      S3 │   S4 │     sol │\n",
      "├────┼─────┼──────┼─────────┼──────┼─────────┼─────────┼──────┼─────────┼──────┼─────────┤\n",
      "│ P  │   1 │    0 │  0.4286 │    0 │  1.5714 │  1.8571 │    0 │  0.7143 │    0 │ 99.2857 │\n",
      "├────┼─────┼──────┼─────────┼──────┼─────────┼─────────┼──────┼─────────┼──────┼─────────┤\n",
      "│ X1 │   0 │    1 │  0.7143 │    0 │ -0.7143 │  1.4286 │    0 │ -0.1429 │    0 │  7.1429 │\n",
      "├────┼─────┼──────┼─────────┼──────┼─────────┼─────────┼──────┼─────────┼──────┼─────────┤\n",
      "│ S2 │   0 │    0 │ -0.8571 │    0 │  1.8571 │ -8.7143 │    1 │  0.5714 │    0 │ 46.4286 │\n",
      "├────┼─────┼──────┼─────────┼──────┼─────────┼─────────┼──────┼─────────┼──────┼─────────┤\n",
      "│ X3 │   0 │    0 │  0.2857 │    1 │  1.7143 │ -0.4286 │    0 │  0.1429 │    0 │  7.8571 │\n",
      "├────┼─────┼──────┼─────────┼──────┼─────────┼─────────┼──────┼─────────┼──────┼─────────┤\n",
      "│ S4 │   0 │    3 │  4      │    7 │  5      │  0      │    0 │  0      │    1 │ 71.4286 │\n",
      "└────┴─────┴──────┴─────────┴──────┴─────────┴─────────┴──────┴─────────┴──────┴─────────┘\n"
     ]
    }
   ],
   "source": [
    "visualize_tabulation(modified_tabulation, var_symbol_arr_, basic_var_symnbol_arr_)"
   ]
  },
  {
   "cell_type": "code",
   "execution_count": 16,
   "metadata": {},
   "outputs": [],
   "source": [
    "modified_tabulation[4] = modified_tabulation[4] - 3*modified_tabulation[1] - 7*modified_tabulation[3]"
   ]
  },
  {
   "cell_type": "code",
   "execution_count": 17,
   "metadata": {},
   "outputs": [
    {
     "name": "stdout",
     "output_type": "stream",
     "text": [
      "┌────┬─────┬──────┬─────────┬──────┬─────────┬─────────┬──────┬─────────┬──────┬─────────┐\n",
      "│    │   P │   X1 │      X2 │   X3 │      X4 │      S1 │   S2 │      S3 │   S4 │     sol │\n",
      "├────┼─────┼──────┼─────────┼──────┼─────────┼─────────┼──────┼─────────┼──────┼─────────┤\n",
      "│ P  │   1 │    0 │  0.4286 │    0 │  1.5714 │  1.8571 │    0 │  0.7143 │    0 │ 99.2857 │\n",
      "├────┼─────┼──────┼─────────┼──────┼─────────┼─────────┼──────┼─────────┼──────┼─────────┤\n",
      "│ X1 │   0 │    1 │  0.7143 │    0 │ -0.7143 │  1.4286 │    0 │ -0.1429 │    0 │  7.1429 │\n",
      "├────┼─────┼──────┼─────────┼──────┼─────────┼─────────┼──────┼─────────┼──────┼─────────┤\n",
      "│ S2 │   0 │    0 │ -0.8571 │    0 │  1.8571 │ -8.7143 │    1 │  0.5714 │    0 │ 46.4286 │\n",
      "├────┼─────┼──────┼─────────┼──────┼─────────┼─────────┼──────┼─────────┼──────┼─────────┤\n",
      "│ X3 │   0 │    0 │  0.2857 │    1 │  1.7143 │ -0.4286 │    0 │  0.1429 │    0 │  7.8571 │\n",
      "├────┼─────┼──────┼─────────┼──────┼─────────┼─────────┼──────┼─────────┼──────┼─────────┤\n",
      "│ S4 │   0 │    0 │ -0.1429 │    0 │ -4.8571 │ -1.2857 │    0 │ -0.5714 │    1 │ -5      │\n",
      "└────┴─────┴──────┴─────────┴──────┴─────────┴─────────┴──────┴─────────┴──────┴─────────┘\n"
     ]
    }
   ],
   "source": [
    "visualize_tabulation(modified_tabulation, var_symbol_arr_, basic_var_symnbol_arr_)"
   ]
  },
  {
   "cell_type": "code",
   "execution_count": 20,
   "metadata": {},
   "outputs": [
    {
     "name": "stdout",
     "output_type": "stream",
     "text": [
      "====================DUAL SIMPLEX - iteration no.: 1====================\n",
      "leaving variale : S4\n",
      "ratio row       : [        inf         nan  3.                 nan  0.32352941  1.44444444\n",
      "         nan  1.25        0.         19.85714286]\n",
      "entering variale: X4\n",
      "┌────┬─────┬──────┬─────────┬──────┬──────┬─────────┬──────┬─────────┬─────────┬─────────┐\n",
      "│    │   P │   X1 │      X2 │   X3 │   X4 │      S1 │   S2 │      S3 │      S4 │     sol │\n",
      "├────┼─────┼──────┼─────────┼──────┼──────┼─────────┼──────┼─────────┼─────────┼─────────┤\n",
      "│ P  │   1 │    0 │  0.3824 │    0 │    0 │  1.4412 │    0 │  0.5294 │  0.3235 │ 97.6681 │\n",
      "├────┼─────┼──────┼─────────┼──────┼──────┼─────────┼──────┼─────────┼─────────┼─────────┤\n",
      "│ X1 │   0 │    1 │  0.7353 │    0 │    0 │  1.6176 │    0 │ -0.0588 │ -0.1471 │  7.8782 │\n",
      "├────┼─────┼──────┼─────────┼──────┼──────┼─────────┼──────┼─────────┼─────────┼─────────┤\n",
      "│ S2 │   0 │    0 │ -0.9118 │    0 │    0 │ -9.2059 │    1 │  0.3529 │  0.3824 │ 44.5168 │\n",
      "├────┼─────┼──────┼─────────┼──────┼──────┼─────────┼──────┼─────────┼─────────┼─────────┤\n",
      "│ X3 │   0 │    0 │  0.2353 │    1 │    0 │ -0.8824 │    0 │ -0.0588 │  0.3529 │  6.0924 │\n",
      "├────┼─────┼──────┼─────────┼──────┼──────┼─────────┼──────┼─────────┼─────────┼─────────┤\n",
      "│ X4 │  -0 │   -0 │  0.0294 │   -0 │    1 │  0.2647 │   -0 │  0.1176 │ -0.2059 │  1.0294 │\n",
      "└────┴─────┴──────┴─────────┴──────┴──────┴─────────┴──────┴─────────┴─────────┴─────────┘\n",
      "\n",
      "\n"
     ]
    },
    {
     "name": "stderr",
     "output_type": "stream",
     "text": [
      "/home/akila/semester_8/OR/helper.py:150: RuntimeWarning: divide by zero encountered in divide\n",
      "  ratio_row = np.abs(tabulation[0]) / np.abs(tabulation[pivot_row_idx])\n",
      "/home/akila/semester_8/OR/helper.py:150: RuntimeWarning: invalid value encountered in divide\n",
      "  ratio_row = np.abs(tabulation[0]) / np.abs(tabulation[pivot_row_idx])\n"
     ]
    }
   ],
   "source": [
    "modified_tabulation_1, basic_var_symbol_arr_1 = dual_simplex_to_all_slack_starting(modified_tabulation, all_vars=var_symbol_arr_, basic_vars=basic_var_symnbol_arr_)"
   ]
  },
  {
   "cell_type": "markdown",
   "metadata": {},
   "source": [
    "### Introducing a New Product"
   ]
  },
  {
   "cell_type": "code",
   "execution_count": 9,
   "metadata": {},
   "outputs": [],
   "source": [
    "# extract the contribution margin matrix\n",
    "CMM = optimal_tabulation[:, [0, 5, 6, 7]]"
   ]
  },
  {
   "cell_type": "code",
   "execution_count": 11,
   "metadata": {},
   "outputs": [],
   "source": [
    "# new product column in initial feasible tabulation\n",
    "new_init_product_col = np.array([0, 1, 2, 3])\n",
    "\n",
    "# new product column in the new final optimal tabulation\n",
    "new_final_product_col = (CMM @ new_init_product_col).reshape(1, -1)[0]\n",
    "\n",
    "# add the profit to the cost (substract 12)\n",
    "new_final_product_col[0] -= 12"
   ]
  },
  {
   "cell_type": "code",
   "execution_count": 12,
   "metadata": {},
   "outputs": [
    {
     "name": "stdout",
     "output_type": "stream",
     "text": [
      "[Fraction(-8, 1) Fraction(1, 1) Fraction(-5, 1) Fraction(0, 1)]\n"
     ]
    }
   ],
   "source": [
    "print(new_final_product_col)"
   ]
  },
  {
   "cell_type": "code",
   "execution_count": 13,
   "metadata": {},
   "outputs": [],
   "source": [
    "save_tabulation(optimal_tabulation, var_symbol_arr, basic_var_symbol_arr, file_name='opt_tabulation_1')"
   ]
  },
  {
   "cell_type": "code",
   "execution_count": 17,
   "metadata": {},
   "outputs": [],
   "source": [
    "def load_tabulation(file_name):\n",
    "\n",
    "    if not file_name.endswith('.csv'): file_name += '.csv'\n",
    "\n",
    "    DF = pd.read_csv(file_name, index_col=0)  # Assuming the row labels are stored in the first column\n",
    "    tabulation = DF.values\n",
    "    for i in range(tabulation.shape[0]):\n",
    "        tabulation[i] = np.array(list(map(Fraction, tabulation[i])))\n",
    "\n",
    "    basic_vars = DF.index.tolist()\n",
    "    all_vars = DF.columns.tolist()\n",
    "\n",
    "    return tabulation, all_vars[ :-1], basic_vars\n",
    "\n",
    "modified_tabulation_2, var_symbol_arr_2, basic_var_symbol_arr_2 = load_tabulation(file_name='opt_tabulation_1')"
   ]
  },
  {
   "cell_type": "code",
   "execution_count": 20,
   "metadata": {},
   "outputs": [
    {
     "data": {
      "text/plain": [
       "array([[Fraction(1, 1), Fraction(0, 1), Fraction(3, 7), Fraction(0, 1),\n",
       "        Fraction(11, 7), Fraction(-8, 1), Fraction(13, 7),\n",
       "        Fraction(0, 1), Fraction(5, 7), Fraction(695, 7)],\n",
       "       [Fraction(0, 1), Fraction(1, 1), Fraction(5, 7), Fraction(0, 1),\n",
       "        Fraction(-5, 7), Fraction(1, 1), Fraction(10, 7), Fraction(0, 1),\n",
       "        Fraction(-1, 7), Fraction(50, 7)],\n",
       "       [Fraction(0, 1), Fraction(0, 1), Fraction(-6, 7), Fraction(0, 1),\n",
       "        Fraction(13, 7), Fraction(-5, 1), Fraction(-61, 7),\n",
       "        Fraction(1, 1), Fraction(4, 7), Fraction(325, 7)],\n",
       "       [Fraction(0, 1), Fraction(0, 1), Fraction(2, 7), Fraction(1, 1),\n",
       "        Fraction(12, 7), Fraction(0, 1), Fraction(-3, 7), Fraction(0, 1),\n",
       "        Fraction(1, 7), Fraction(55, 7)]], dtype=object)"
      ]
     },
     "execution_count": 20,
     "metadata": {},
     "output_type": "execute_result"
    }
   ],
   "source": [
    "modified_tabulation_2"
   ]
  },
  {
   "cell_type": "code",
   "execution_count": 19,
   "metadata": {},
   "outputs": [
    {
     "name": "stdout",
     "output_type": "stream",
     "text": [
      "==================== iteration no.: 1 ====================\n",
      "entering var: X5\n",
      "pivot col: [Fraction(-8, 1) Fraction(1, 1) Fraction(-5, 1) Fraction(0, 1)]\n",
      "solution : [Fraction(695, 7) Fraction(50, 7) Fraction(325, 7) Fraction(55, 7)]\n",
      "ratio col: [-12.41071429   7.14285714  -9.28571429          inf]\n",
      "leaving var : X1\n",
      "pivot row: [Fraction(0, 1) Fraction(1, 1) Fraction(5, 7) Fraction(0, 1)\n",
      " Fraction(-5, 7) Fraction(1, 1) Fraction(10, 7) Fraction(0, 1)\n",
      " Fraction(-1, 7) Fraction(50, 7)]\n",
      "new basic variables: ['P', 'X5', 'S2', 'X3']\n",
      "┌────┬─────┬──────┬──────────┬──────┬───────────┬──────┬───────────┬──────┬───────────┬───────────┐\n",
      "│    │   P │   X1 │       X2 │   X3 │        X4 │   X5 │        S1 │   S2 │        S3 │       sol │\n",
      "├────┼─────┼──────┼──────────┼──────┼───────────┼──────┼───────────┼──────┼───────────┼───────────┤\n",
      "│ P  │   1 │    8 │ 6.14286  │    0 │ -4.14286  │    0 │ 13.2857   │    0 │ -0.428571 │ 156.429   │\n",
      "├────┼─────┼──────┼──────────┼──────┼───────────┼──────┼───────────┼──────┼───────────┼───────────┤\n",
      "│ X5 │   0 │    1 │ 0.714286 │    0 │ -0.714286 │    1 │  1.42857  │    0 │ -0.142857 │   7.14286 │\n",
      "├────┼─────┼──────┼──────────┼──────┼───────────┼──────┼───────────┼──────┼───────────┼───────────┤\n",
      "│ S2 │   0 │    5 │ 2.71429  │    0 │ -1.71429  │    0 │ -1.57143  │    1 │ -0.142857 │  82.1429  │\n",
      "├────┼─────┼──────┼──────────┼──────┼───────────┼──────┼───────────┼──────┼───────────┼───────────┤\n",
      "│ X3 │   0 │    0 │ 0.285714 │    1 │  1.71429  │    0 │ -0.428571 │    0 │  0.142857 │   7.85714 │\n",
      "└────┴─────┴──────┴──────────┴──────┴───────────┴──────┴───────────┴──────┴───────────┴───────────┘\n",
      "the tabulation is feasible.\n",
      "\n",
      "\n",
      "==================== iteration no.: 2 ====================\n",
      "entering var: X4\n",
      "pivot col: [Fraction(-29, 7) Fraction(-5, 7) Fraction(-12, 7) Fraction(12, 7)]\n",
      "solution : [Fraction(1095, 7) Fraction(50, 7) Fraction(575, 7) Fraction(55, 7)]\n",
      "ratio col: [-37.75862069 -10.         -47.91666667   4.58333333]\n",
      "leaving var : X3\n",
      "pivot row: [Fraction(0, 1) Fraction(0, 1) Fraction(2, 7) Fraction(1, 1)\n",
      " Fraction(12, 7) Fraction(0, 1) Fraction(-3, 7) Fraction(0, 1)\n",
      " Fraction(1, 7) Fraction(55, 7)]\n",
      "new basic variables: ['P', 'X5', 'S2', 'X4']\n",
      "┌────┬─────┬──────┬──────────┬──────────┬──────┬──────┬───────┬──────┬────────────┬───────────┐\n",
      "│    │   P │   X1 │       X2 │       X3 │   X4 │   X5 │    S1 │   S2 │         S3 │       sol │\n",
      "├────┼─────┼──────┼──────────┼──────────┼──────┼──────┼───────┼──────┼────────────┼───────────┤\n",
      "│ P  │   1 │    8 │ 6.83333  │ 2.41667  │    0 │    0 │ 12.25 │    0 │ -0.0833333 │ 175.417   │\n",
      "├────┼─────┼──────┼──────────┼──────────┼──────┼──────┼───────┼──────┼────────────┼───────────┤\n",
      "│ X5 │   0 │    1 │ 0.833333 │ 0.416667 │    0 │    1 │  1.25 │    0 │ -0.0833333 │  10.4167  │\n",
      "├────┼─────┼──────┼──────────┼──────────┼──────┼──────┼───────┼──────┼────────────┼───────────┤\n",
      "│ S2 │   0 │    5 │ 3        │ 1        │    0 │    0 │ -2    │    1 │  0         │  90       │\n",
      "├────┼─────┼──────┼──────────┼──────────┼──────┼──────┼───────┼──────┼────────────┼───────────┤\n",
      "│ X4 │   0 │    0 │ 0.166667 │ 0.583333 │    1 │    0 │ -0.25 │    0 │  0.0833333 │   4.58333 │\n",
      "└────┴─────┴──────┴──────────┴──────────┴──────┴──────┴───────┴──────┴────────────┴───────────┘\n",
      "the tabulation is feasible.\n",
      "\n",
      "\n",
      "==================== iteration no.: 3 ====================\n",
      "entering var: S3\n",
      "pivot col: [Fraction(-1, 12) Fraction(-1, 12) Fraction(0, 1) Fraction(1, 12)]\n",
      "solution : [Fraction(2105, 12) Fraction(125, 12) Fraction(90, 1) Fraction(55, 12)]\n",
      "ratio col: [-2105.  -125.    inf    55.]\n",
      "leaving var : X4\n",
      "pivot row: [Fraction(0, 1) Fraction(0, 1) Fraction(1, 6) Fraction(7, 12)\n",
      " Fraction(1, 1) Fraction(0, 1) Fraction(-1, 4) Fraction(0, 1)\n",
      " Fraction(1, 12) Fraction(55, 12)]\n",
      "new basic variables: ['P', 'X5', 'S2', 'S3']\n",
      "┌────┬─────┬──────┬──────┬──────┬──────┬──────┬──────┬──────┬──────┬───────┐\n",
      "│    │   P │   X1 │   X2 │   X3 │   X4 │   X5 │   S1 │   S2 │   S3 │   sol │\n",
      "├────┼─────┼──────┼──────┼──────┼──────┼──────┼──────┼──────┼──────┼───────┤\n",
      "│ P  │   1 │    8 │    7 │    3 │    1 │    0 │   12 │    0 │    0 │   180 │\n",
      "├────┼─────┼──────┼──────┼──────┼──────┼──────┼──────┼──────┼──────┼───────┤\n",
      "│ X5 │   0 │    1 │    1 │    1 │    1 │    1 │    1 │    0 │    0 │    15 │\n",
      "├────┼─────┼──────┼──────┼──────┼──────┼──────┼──────┼──────┼──────┼───────┤\n",
      "│ S2 │   0 │    5 │    3 │    1 │    0 │    0 │   -2 │    1 │    0 │    90 │\n",
      "├────┼─────┼──────┼──────┼──────┼──────┼──────┼──────┼──────┼──────┼───────┤\n",
      "│ S3 │   0 │    0 │    2 │    7 │   12 │    0 │   -3 │    0 │    1 │    55 │\n",
      "└────┴─────┴──────┴──────┴──────┴──────┴──────┴──────┴──────┴──────┴───────┘\n",
      "the tabulation is feasible.\n",
      "\n",
      "\n",
      "*****there are no more negative values in the objective row; tabulation is optimal...*****\n",
      "\n",
      "S1 12\n",
      "X1 8\n",
      "X2 7\n",
      "X3 3\n",
      "X4 1\n"
     ]
    },
    {
     "name": "stderr",
     "output_type": "stream",
     "text": [
      "/home/akila/semester_8/OR/helper.py:69: RuntimeWarning: divide by zero encountered in divide\n",
      "  print(f\"solution : {solution}\")\n"
     ]
    },
    {
     "data": {
      "text/plain": [
       "(array([[Fraction(1, 1), Fraction(8, 1), Fraction(7, 1), Fraction(3, 1),\n",
       "         Fraction(1, 1), Fraction(0, 1), Fraction(12, 1), Fraction(0, 1),\n",
       "         Fraction(0, 1), Fraction(180, 1)],\n",
       "        [Fraction(0, 1), Fraction(1, 1), Fraction(1, 1), Fraction(1, 1),\n",
       "         Fraction(1, 1), Fraction(1, 1), Fraction(1, 1), Fraction(0, 1),\n",
       "         Fraction(0, 1), Fraction(15, 1)],\n",
       "        [Fraction(0, 1), Fraction(5, 1), Fraction(3, 1), Fraction(1, 1),\n",
       "         Fraction(0, 1), Fraction(0, 1), Fraction(-2, 1), Fraction(1, 1),\n",
       "         Fraction(0, 1), Fraction(90, 1)],\n",
       "        [Fraction(0, 1), Fraction(0, 1), Fraction(2, 1), Fraction(7, 1),\n",
       "         Fraction(12, 1), Fraction(0, 1), Fraction(-3, 1), Fraction(0, 1),\n",
       "         Fraction(1, 1), Fraction(55, 1)]], dtype=object),\n",
       " ['P', 'X5', 'S2', 'S3'])"
      ]
     },
     "execution_count": 19,
     "metadata": {},
     "output_type": "execute_result"
    }
   ],
   "source": [
    "# apply all-slack starting\n",
    "all_slack_starting(modified_tabulation_2, var_symbol_arr_2, basic_var_symbol_arr_2, opt_type=\"MAX\")"
   ]
  },
  {
   "cell_type": "code",
   "execution_count": null,
   "metadata": {},
   "outputs": [],
   "source": []
  }
 ],
 "metadata": {
  "kernelspec": {
   "display_name": "Python 3",
   "language": "python",
   "name": "python3"
  },
  "language_info": {
   "codemirror_mode": {
    "name": "ipython",
    "version": 3
   },
   "file_extension": ".py",
   "mimetype": "text/x-python",
   "name": "python",
   "nbconvert_exporter": "python",
   "pygments_lexer": "ipython3",
   "version": "3.10.12"
  }
 },
 "nbformat": 4,
 "nbformat_minor": 2
}
