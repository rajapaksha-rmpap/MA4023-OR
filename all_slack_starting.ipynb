{
 "cells": [
  {
   "cell_type": "markdown",
   "metadata": {},
   "source": [
    "### **All Slack Starting Method**"
   ]
  },
  {
   "cell_type": "code",
   "execution_count": 22,
   "metadata": {},
   "outputs": [],
   "source": [
    "import copy\n",
    "\n",
    "import numpy as np\n",
    "from tabulate import tabulate"
   ]
  },
  {
   "cell_type": "code",
   "execution_count": 25,
   "metadata": {},
   "outputs": [],
   "source": [
    "def visualize_tabulation(tabulation, all_vars, basic_vars):\n",
    "\n",
    "    header = np.concatenate(([], all_vars, [\"sol\"]))\n",
    "    print(tabulate(np.concatenate((np.array(basic_vars).reshape(-1, 1), tabulation), axis=1), headers=header, stralign='center', tablefmt='simple_grid'))"
   ]
  },
  {
   "cell_type": "code",
   "execution_count": 56,
   "metadata": {},
   "outputs": [],
   "source": [
    "# question 4\n",
    "# no. of decision variables (N)\n",
    "NO_OF_DECISION_VARS = 3\n",
    "\n",
    "# no. of conditions \n",
    "NO_OF_CONDITIONS = 3\n",
    "\n",
    "# --------------------------------- objective function ---------------------------------\n",
    "# specify the objective function in the format [<coefficient_1>, <coefficient_2>, ..., <coefficient_N>]\n",
    "OBJ_FUNC = [2.35, 3, 2.85]\n",
    "\n",
    "# -------------------------------- type of optimization --------------------------------\n",
    "OPT_TYPE = \"MAX\" # or \"MIN\" \n",
    "\n",
    "# ------------------------------------- conditions -------------------------------------\n",
    "# specify each condition in a new row with the format [<coefficient_1>, <coefficient_2>, ..., <coefficient_N>, <solution>]\n",
    "conditions = [\n",
    "    [ 10, 9, 14, 4_000],\n",
    "    [  5, 6, 12, 3_000],\n",
    "    [  0, 1,  0,   250],\n",
    "]"
   ]
  },
  {
   "cell_type": "markdown",
   "metadata": {},
   "source": [
    "### Creating the Variables"
   ]
  },
  {
   "cell_type": "code",
   "execution_count": 57,
   "metadata": {},
   "outputs": [
    {
     "name": "stdout",
     "output_type": "stream",
     "text": [
      "variables: ['P', 'X1', 'X2', 'X3', 'S1', 'S2', 'S3']\n",
      "basic variables: ['P', 'S1', 'S2', 'S3']\n"
     ]
    }
   ],
   "source": [
    "var_symbol_arr = []\n",
    "basic_var_symbol_arr = []\n",
    "\n",
    "OBJ_FUNC_VAR_SYMBOL = \"P\"\n",
    "DECISION_VAR_SYMBOL = \"X\"\n",
    "SLACK_VAR_SYMBOL    = \"S\"\n",
    "\n",
    "# ========================= ALL THE VARIABLES =========================\n",
    "var_symbol_arr.append(OBJ_FUNC_VAR_SYMBOL)\n",
    "\n",
    "for i in range(NO_OF_DECISION_VARS):\n",
    "    var_symbol_arr.append(DECISION_VAR_SYMBOL + str(i+1))\n",
    "\n",
    "for i in range(NO_OF_CONDITIONS):\n",
    "    var_symbol_arr.append(SLACK_VAR_SYMBOL + str(i+1))\n",
    "\n",
    "print(\"variables:\", var_symbol_arr)\n",
    "\n",
    "# ========================== BASIC VARIABLES ==========================\n",
    "basic_var_symbol_arr.append(OBJ_FUNC_VAR_SYMBOL)\n",
    "\n",
    "for i in range(NO_OF_CONDITIONS):\n",
    "    basic_var_symbol_arr.append(SLACK_VAR_SYMBOL + str(i+1))\n",
    "\n",
    "print(\"basic variables:\", basic_var_symbol_arr)"
   ]
  },
  {
   "cell_type": "markdown",
   "metadata": {},
   "source": [
    "### Creating the Initial Tabulation"
   ]
  },
  {
   "cell_type": "code",
   "execution_count": 58,
   "metadata": {},
   "outputs": [],
   "source": [
    "# verify the elements\n",
    "OBJ_FUNC = np.array(OBJ_FUNC)\n",
    "if len(OBJ_FUNC) != NO_OF_DECISION_VARS:\n",
    "    raise Exception(f\"the no. of coefficients in the objective function doesn't match tne number of decision variables...\")\n",
    "\n",
    "conditions = np.array(conditions)\n",
    "if len(conditions) != NO_OF_CONDITIONS:\n",
    "    raise Exception(f\"the no. of specified conditions doesn't match 'NO_OF_CONDITIONS'...\")\n",
    "if len(conditions[0]) != NO_OF_DECISION_VARS + 1:\n",
    "    raise Exception(f\"the no. of coefficients in the conditions doesn't match tne number of decision variables...\")"
   ]
  },
  {
   "cell_type": "code",
   "execution_count": 59,
   "metadata": {},
   "outputs": [
    {
     "name": "stdout",
     "output_type": "stream",
     "text": [
      "┌────┬─────┬───────┬──────┬───────┬──────┬──────┬──────┬───────┐\n",
      "│    │   P │    X1 │   X2 │    X3 │   S1 │   S2 │   S3 │   sol │\n",
      "├────┼─────┼───────┼──────┼───────┼──────┼──────┼──────┼───────┤\n",
      "│ P  │   1 │ -2.35 │   -3 │ -2.85 │    0 │    0 │    0 │     0 │\n",
      "├────┼─────┼───────┼──────┼───────┼──────┼──────┼──────┼───────┤\n",
      "│ S1 │   0 │ 10    │    9 │ 14    │    1 │    0 │    0 │  4000 │\n",
      "├────┼─────┼───────┼──────┼───────┼──────┼──────┼──────┼───────┤\n",
      "│ S2 │   0 │  5    │    6 │ 12    │    0 │    1 │    0 │  3000 │\n",
      "├────┼─────┼───────┼──────┼───────┼──────┼──────┼──────┼───────┤\n",
      "│ S3 │   0 │  0    │    1 │  0    │    0 │    0 │    1 │   250 │\n",
      "└────┴─────┴───────┴──────┴───────┴──────┴──────┴──────┴───────┘\n"
     ]
    }
   ],
   "source": [
    "# find the size of a row\n",
    "row_size = 1 + NO_OF_DECISION_VARS + NO_OF_CONDITIONS + 1\n",
    "\n",
    "# find the column size\n",
    "col_size = 1 + NO_OF_CONDITIONS # no. of basic vars = 1 (for objective function) + no. of conditions\n",
    "\n",
    "# construct the initial tabulation\n",
    "obj_func_row = np.concatenate(([1], -OBJ_FUNC, np.zeros([NO_OF_CONDITIONS]), [0]))\n",
    "initial_tabulation = obj_func_row.reshape((1, -1))\n",
    "\n",
    "for i in range(1, col_size):\n",
    "\n",
    "    # condition rows\n",
    "    temp = np.zeros([NO_OF_CONDITIONS])\n",
    "    temp[i-1] = 1\n",
    "    row = np.concatenate(([0], conditions[i-1][ :-1], temp, conditions[i-1][-1: ])).reshape((1, -1))\n",
    "\n",
    "    initial_tabulation = np.concatenate((initial_tabulation, row), axis=0)\n",
    "\n",
    "visualize_tabulation(initial_tabulation, all_vars=var_symbol_arr, basic_vars=basic_var_symbol_arr)"
   ]
  },
  {
   "cell_type": "markdown",
   "metadata": {},
   "source": [
    "### Performing One Iteration of Optimization"
   ]
  },
  {
   "cell_type": "code",
   "execution_count": 16,
   "metadata": {},
   "outputs": [
    {
     "name": "stdout",
     "output_type": "stream",
     "text": [
      "entering var: X1\n",
      "pivot col: [-5.  6.  1. -1.  0.]\n",
      "solution : [ 0. 24.  6.  1.  2.]\n",
      "ratio col: [-0.  4.  6. -1. inf]\n",
      "leaving var : S1\n",
      "pivot row: [ 0.  6.  4.  1.  0.  0.  0. 24.]\n"
     ]
    },
    {
     "name": "stderr",
     "output_type": "stream",
     "text": [
      "/tmp/ipykernel_400753/1569952453.py:23: RuntimeWarning: divide by zero encountered in divide\n",
      "  ratio_col = solution / pivot_col\n"
     ]
    }
   ],
   "source": [
    "# ====================================== ENTERING VARIABLE ======================================\n",
    "# find the highest negative value in the objective function row -> pivot column\n",
    "tabulation = copy.deepcopy(initial_tabulation)\n",
    "\n",
    "if OPT_TYPE == \"MAX\":\n",
    "    if not (tabulation[0][1:-1] < 0).any():\n",
    "        raise Exception(f\"there are no negative values in the objective row...\")\n",
    "    pivot_col_value = np.min(tabulation[0][1:-1]) # highest negative value\n",
    "else: # OPT_TYPE == \"MIN\"\n",
    "    if not (tabulation[0][1:-1] > 0).any():\n",
    "        raise Exception(f\"there are no positive values in the objective row...\")\n",
    "    pivot_col_value = np.max(tabulation[0][1:-1]) # highest positive value\n",
    "pivot_col_idx = list(tabulation[0][1:-1]).index(pivot_col_value) + 1\n",
    "\n",
    "entering_var = var_symbol_arr[pivot_col_idx]\n",
    "print(f\"entering var: {entering_var}\")\n",
    "pivot_col = tabulation[:, pivot_col_idx]\n",
    "print(f\"pivot col: {pivot_col}\")\n",
    "\n",
    "# find the ratio column\n",
    "solution  = tabulation[:, -1]\n",
    "print(f\"solution : {solution}\")\n",
    "ratio_col = solution / pivot_col\n",
    "print(f\"ratio col: {ratio_col}\")\n",
    "\n",
    "# ====================================== LEAVING VARIABLE =======================================\n",
    "# find the lowest positive value in the ratio column\n",
    "pivot_row_value = np.min(ratio_col[1: ][ratio_col[1: ] > 0])\n",
    "pivot_row_idx = list(ratio_col[1: ]).index(pivot_row_value) + 1\n",
    "\n",
    "leaving_var = basic_var_symbol_arr[pivot_row_idx]\n",
    "print(f\"leaving var : {leaving_var}\")\n",
    "pivot_row = tabulation[pivot_row_idx]\n",
    "print(f\"pivot row: {pivot_row}\")"
   ]
  },
  {
   "cell_type": "code",
   "execution_count": 17,
   "metadata": {},
   "outputs": [
    {
     "name": "stdout",
     "output_type": "stream",
     "text": [
      "new basic variables: ['P', 'X1', 'S2', 'S3', 'S4']\n"
     ]
    }
   ],
   "source": [
    "# replace the leaving variable with the entering variable\n",
    "basic_var_symbol_arr[pivot_row_idx] = entering_var\n",
    "print(f\"new basic variables: {basic_var_symbol_arr}\")"
   ]
  },
  {
   "cell_type": "code",
   "execution_count": 18,
   "metadata": {},
   "outputs": [
    {
     "name": "stdout",
     "output_type": "stream",
     "text": [
      "┌────┬─────┬──────┬───────────┬───────────┬──────┬──────┬──────┬───────┐\n",
      "│    │   P │   X1 │        X2 │        S1 │   S2 │   S3 │   S4 │   sol │\n",
      "├────┼─────┼──────┼───────────┼───────────┼──────┼──────┼──────┼───────┤\n",
      "│ P  │   1 │    0 │ -0.666667 │  0.833333 │    0 │    0 │    0 │    20 │\n",
      "├────┼─────┼──────┼───────────┼───────────┼──────┼──────┼──────┼───────┤\n",
      "│ X1 │   0 │    1 │  0.666667 │  0.166667 │    0 │    0 │    0 │     4 │\n",
      "├────┼─────┼──────┼───────────┼───────────┼──────┼──────┼──────┼───────┤\n",
      "│ S2 │   0 │    0 │  1.33333  │ -0.166667 │    1 │    0 │    0 │     2 │\n",
      "├────┼─────┼──────┼───────────┼───────────┼──────┼──────┼──────┼───────┤\n",
      "│ S3 │   0 │    0 │  1.66667  │  0.166667 │    0 │    1 │    0 │     5 │\n",
      "├────┼─────┼──────┼───────────┼───────────┼──────┼──────┼──────┼───────┤\n",
      "│ S4 │   0 │    0 │  1        │  0        │    0 │    0 │    1 │     2 │\n",
      "└────┴─────┴──────┴───────────┴───────────┴──────┴──────┴──────┴───────┘\n"
     ]
    }
   ],
   "source": [
    "# convert the pivot column to a pivot vector\n",
    "\n",
    "# verify that the pivot column is convertible to a pivot vector\n",
    "if pivot_row[pivot_col_idx] == 0:\n",
    "    raise Exception(f\"the pivot column (var '{entering_var}') at index {pivot_col_idx} is not convertible to a pivot vector...\")\n",
    "\n",
    "# transform the pivot row\n",
    "pivot_row_ = pivot_row / pivot_row[pivot_col_idx]\n",
    "tabulation[pivot_row_idx] = pivot_row_\n",
    "\n",
    "# transform all the other rows\n",
    "for i in range(col_size):\n",
    "\n",
    "    if i == pivot_row_idx:\n",
    "        continue\n",
    "\n",
    "    row = tabulation[i]\n",
    "    tabulation[i] = row - row[pivot_col_idx] * pivot_row_\n",
    "\n",
    "visualize_tabulation(tabulation, all_vars=var_symbol_arr, basic_vars=basic_var_symbol_arr)"
   ]
  },
  {
   "cell_type": "markdown",
   "metadata": {},
   "source": [
    "### Checking the Feasibility Condition"
   ]
  },
  {
   "cell_type": "code",
   "execution_count": 19,
   "metadata": {},
   "outputs": [
    {
     "name": "stdout",
     "output_type": "stream",
     "text": [
      "the tabulation is feasible.\n"
     ]
    }
   ],
   "source": [
    "# the values in the solution column except the one in the objective function row must be non-negative\n",
    "is_feasible = (tabulation[:, -1][1: ] >= 0).all()\n",
    "\n",
    "if not is_feasible:\n",
    "    raise Exception(f\"the tabulation is not feasible...\")\n",
    "print(f\"the tabulation is feasible.\")"
   ]
  },
  {
   "cell_type": "markdown",
   "metadata": {},
   "source": [
    "### Checking the Optimality Condition\n",
    "\n",
    "- The optimality condition is embedded in creating the initial tabulation. "
   ]
  },
  {
   "cell_type": "markdown",
   "metadata": {},
   "source": [
    "### Constructing the Code into a Loop"
   ]
  },
  {
   "cell_type": "code",
   "execution_count": 60,
   "metadata": {},
   "outputs": [
    {
     "name": "stdout",
     "output_type": "stream",
     "text": [
      "==================== iteration no.: 1 ====================\n",
      "entering var: X2\n",
      "pivot col: [-3.  9.  6.  1.]\n",
      "solution : [   0. 4000. 3000.  250.]\n",
      "ratio col: [ -0.         444.44444444 500.         250.        ]\n",
      "leaving var : S3\n",
      "pivot row: [  0.   0.   1.   0.   0.   0.   1. 250.]\n",
      "new basic variables: ['P', 'S1', 'S2', 'X2']\n",
      "┌────┬─────┬───────┬──────┬───────┬──────┬──────┬──────┬───────┐\n",
      "│    │   P │    X1 │   X2 │    X3 │   S1 │   S2 │   S3 │   sol │\n",
      "├────┼─────┼───────┼──────┼───────┼──────┼──────┼──────┼───────┤\n",
      "│ P  │   1 │ -2.35 │    0 │ -2.85 │    0 │    0 │    3 │   750 │\n",
      "├────┼─────┼───────┼──────┼───────┼──────┼──────┼──────┼───────┤\n",
      "│ S1 │   0 │ 10    │    0 │ 14    │    1 │    0 │   -9 │  1750 │\n",
      "├────┼─────┼───────┼──────┼───────┼──────┼──────┼──────┼───────┤\n",
      "│ S2 │   0 │  5    │    0 │ 12    │    0 │    1 │   -6 │  1500 │\n",
      "├────┼─────┼───────┼──────┼───────┼──────┼──────┼──────┼───────┤\n",
      "│ X2 │   0 │  0    │    1 │  0    │    0 │    0 │    1 │   250 │\n",
      "└────┴─────┴───────┴──────┴───────┴──────┴──────┴──────┴───────┘\n",
      "the tabulation is feasible.\n",
      "\n",
      "\n",
      "==================== iteration no.: 2 ====================\n",
      "entering var: X3\n",
      "pivot col: [-2.85 14.   12.    0.  ]\n",
      "solution : [ 750. 1750. 1500.  250.]\n",
      "ratio col: [-263.15789474  125.          125.                   inf]\n",
      "leaving var : S1\n",
      "pivot row: [ 0.00e+00  1.00e+01  0.00e+00  1.40e+01  1.00e+00  0.00e+00 -9.00e+00\n",
      "  1.75e+03]\n",
      "new basic variables: ['P', 'X3', 'S2', 'X2']\n",
      "┌────┬─────┬───────────┬──────┬──────┬────────────┬──────┬───────────┬─────────┐\n",
      "│    │   P │        X1 │   X2 │   X3 │         S1 │   S2 │        S3 │     sol │\n",
      "├────┼─────┼───────────┼──────┼──────┼────────────┼──────┼───────────┼─────────┤\n",
      "│ P  │   1 │ -0.314286 │    0 │    0 │  0.203571  │    0 │  1.16786  │ 1106.25 │\n",
      "├────┼─────┼───────────┼──────┼──────┼────────────┼──────┼───────────┼─────────┤\n",
      "│ X3 │   0 │  0.714286 │    0 │    1 │  0.0714286 │    0 │ -0.642857 │  125    │\n",
      "├────┼─────┼───────────┼──────┼──────┼────────────┼──────┼───────────┼─────────┤\n",
      "│ S2 │   0 │ -3.57143  │    0 │    0 │ -0.857143  │    1 │  1.71429  │    0    │\n",
      "├────┼─────┼───────────┼──────┼──────┼────────────┼──────┼───────────┼─────────┤\n",
      "│ X2 │   0 │  0        │    1 │    0 │  0         │    0 │  1        │  250    │\n",
      "└────┴─────┴───────────┴──────┴──────┴────────────┴──────┴───────────┴─────────┘\n",
      "the tabulation is feasible.\n",
      "\n",
      "\n",
      "==================== iteration no.: 3 ====================\n",
      "entering var: X1\n",
      "pivot col: [-0.31428571  0.71428571 -3.57142857  0.        ]\n",
      "solution : [1106.25  125.      0.    250.  ]\n",
      "ratio col: [-3519.88636364   175.            -0.                    inf]\n",
      "leaving var : X3\n",
      "pivot row: [ 0.00000000e+00  7.14285714e-01  0.00000000e+00  1.00000000e+00\n",
      "  7.14285714e-02  0.00000000e+00 -6.42857143e-01  1.25000000e+02]\n",
      "new basic variables: ['P', 'X1', 'S2', 'X2']\n",
      "┌────┬─────┬──────┬──────┬──────┬────────┬──────┬────────┬─────────┐\n",
      "│    │   P │   X1 │   X2 │   X3 │     S1 │   S2 │     S3 │     sol │\n",
      "├────┼─────┼──────┼──────┼──────┼────────┼──────┼────────┼─────────┤\n",
      "│ P  │   1 │    0 │    0 │ 0.44 │  0.235 │    0 │  0.885 │ 1161.25 │\n",
      "├────┼─────┼──────┼──────┼──────┼────────┼──────┼────────┼─────────┤\n",
      "│ X1 │   0 │    1 │    0 │ 1.4  │  0.1   │    0 │ -0.9   │  175    │\n",
      "├────┼─────┼──────┼──────┼──────┼────────┼──────┼────────┼─────────┤\n",
      "│ S2 │   0 │    0 │    0 │ 5    │ -0.5   │    1 │ -1.5   │  625    │\n",
      "├────┼─────┼──────┼──────┼──────┼────────┼──────┼────────┼─────────┤\n",
      "│ X2 │   0 │    0 │    1 │ 0    │  0     │    0 │  1     │  250    │\n",
      "└────┴─────┴──────┴──────┴──────┴────────┴──────┴────────┴─────────┘\n",
      "the tabulation is feasible.\n",
      "\n",
      "\n",
      "*****there are no more negative values in the objective row; tabulation is optimal...*****\n",
      "\n"
     ]
    },
    {
     "name": "stderr",
     "output_type": "stream",
     "text": [
      "/tmp/ipykernel_400753/1391603999.py:33: RuntimeWarning: divide by zero encountered in divide\n",
      "  ratio_col = solution / pivot_col\n"
     ]
    }
   ],
   "source": [
    "iteration_no = 0\n",
    "tabulation = copy.deepcopy(initial_tabulation)\n",
    "\n",
    "for _ in range(5): # *****\n",
    "\n",
    "    # ====================================== ENTERING VARIABLE ======================================\n",
    "    if OPT_TYPE == \"MAX\":\n",
    "        if not (tabulation[0][1:-1] < 0).any():\n",
    "            # raise Exception(f\"there are no negative values in the objective row...\")\n",
    "            print(f\"*****there are no more negative values in the objective row; tabulation is optimal...*****\\n\")\n",
    "            break\n",
    "        pivot_col_value = np.min(tabulation[0][1:-1]) # highest negative value\n",
    "    else: # OPT_TYPE == \"MIN\"\n",
    "        if not (tabulation[0][1:-1] > 0).any():\n",
    "            # raise Exception(f\"there are no positive values in the objective row...\")\n",
    "            print(f\"*****there are no more positive values in the objective row; tabulation is optimal...*****\\n\")\n",
    "            break\n",
    "        pivot_col_value = np.max(tabulation[0][1:-1]) # highest positive value\n",
    "\n",
    "    iteration_no += 1\n",
    "    print(\"=\"*20 + f\" iteration no.: {iteration_no} \" + \"=\"*20)\n",
    "\n",
    "    pivot_col_idx = list(tabulation[0][1:-1]).index(pivot_col_value) + 1\n",
    "\n",
    "    entering_var = var_symbol_arr[pivot_col_idx]\n",
    "    print(f\"entering var: {entering_var}\")\n",
    "    pivot_col = tabulation[:, pivot_col_idx]\n",
    "    print(f\"pivot col: {pivot_col}\")\n",
    "\n",
    "    # find the ratio column\n",
    "    solution  = tabulation[:, -1]\n",
    "    print(f\"solution : {solution}\")\n",
    "    ratio_col = solution / pivot_col\n",
    "    print(f\"ratio col: {ratio_col}\")\n",
    "\n",
    "    # ====================================== LEAVING VARIABLE =======================================\n",
    "    # find the lowest positive value in the ratio column\n",
    "    if not (ratio_col[1: ] > 0).any():\n",
    "        raise Exception(f\"there is no positive value in the ratio column; therefore, NO FEASIBLE SOLUTION EXISTS...\")\n",
    "\n",
    "    pivot_row_value = np.min(ratio_col[1: ][ratio_col[1: ] > 0])\n",
    "    pivot_row_idx = list(ratio_col[1: ]).index(pivot_row_value) + 1\n",
    "\n",
    "    leaving_var = basic_var_symbol_arr[pivot_row_idx]\n",
    "    print(f\"leaving var : {leaving_var}\")\n",
    "    pivot_row = tabulation[pivot_row_idx]\n",
    "    print(f\"pivot row: {pivot_row}\")\n",
    "\n",
    "    # replace the leaving variable with the entering variable\n",
    "    basic_var_symbol_arr[pivot_row_idx] = entering_var\n",
    "    print(f\"new basic variables: {basic_var_symbol_arr}\")\n",
    "\n",
    "    # convert the pivot column to a pivot vector\n",
    "\n",
    "    # verify that the pivot column is convertible to a pivot vector\n",
    "    if pivot_row[pivot_col_idx] == 0:\n",
    "        raise Exception(f\"the pivot column (var '{entering_var}') at index {pivot_col_idx} is not convertible to a pivot vector...\")\n",
    "\n",
    "    # transform the pivot row\n",
    "    pivot_row_ = pivot_row / pivot_row[pivot_col_idx]\n",
    "    tabulation[pivot_row_idx] = pivot_row_\n",
    "\n",
    "    # transform all the other rows\n",
    "    for i in range(col_size):\n",
    "\n",
    "        if i == pivot_row_idx:\n",
    "            continue\n",
    "\n",
    "        row = tabulation[i]\n",
    "        tabulation[i] = row - row[pivot_col_idx] * pivot_row_\n",
    "\n",
    "    visualize_tabulation(tabulation, all_vars=var_symbol_arr, basic_vars=basic_var_symbol_arr)\n",
    "\n",
    "    # the values in the solution column except the one in the objective function row must be non-negative\n",
    "    is_feasible = (tabulation[:, -1][1: ] >= 0).all()\n",
    "\n",
    "    if not is_feasible:\n",
    "        raise Exception(f\"the tabulation is not feasible...\")\n",
    "    print(f\"the tabulation is feasible.\")\n",
    "\n",
    "    print('\\n')\n",
    "\n",
    "# check for many solutions\n",
    "non_basic_vars = list(set(var_symbol_arr) - set(basic_var_symbol_arr))\n",
    "non_basic_vars.sort()\n",
    "for non_basic_var in non_basic_vars:\n",
    "    # find the objective row value for each non-basic variable\n",
    "    # print(non_basic_var, tabulation[0][var_symbol_arr.index(non_basic_var)])\n",
    "    if tabulation[0][var_symbol_arr.index(non_basic_var)] == 0:\n",
    "        raise Exception(f\"non-basic variable '{non_basic_var}' has a zero value in the objective row; therefore, MANY SOLUTIONS EXISTS...\")"
   ]
  },
  {
   "cell_type": "code",
   "execution_count": null,
   "metadata": {},
   "outputs": [],
   "source": []
  }
 ],
 "metadata": {
  "kernelspec": {
   "display_name": "Python 3",
   "language": "python",
   "name": "python3"
  },
  "language_info": {
   "codemirror_mode": {
    "name": "ipython",
    "version": 3
   },
   "file_extension": ".py",
   "mimetype": "text/x-python",
   "name": "python",
   "nbconvert_exporter": "python",
   "pygments_lexer": "ipython3",
   "version": "3.10.12"
  }
 },
 "nbformat": 4,
 "nbformat_minor": 2
}
