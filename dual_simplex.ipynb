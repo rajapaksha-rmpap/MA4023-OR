{
 "cells": [
  {
   "cell_type": "markdown",
   "metadata": {},
   "source": [
    "### **Dual-Simplex Method**\n",
    "\n",
    "- All the conditions should be less than or equal `<=` inequalities. \n",
    "- But, the RHS constant value can be either positive or negative. \n",
    "- Essential for sensitivity analysis. "
   ]
  },
  {
   "cell_type": "code",
   "execution_count": 1,
   "metadata": {},
   "outputs": [],
   "source": [
    "import os, sys, copy\n",
    "\n",
    "import numpy as np\n",
    "from tabulate import tabulate\n",
    "\n",
    "from helper import visualize_tabulation, all_slack_starting"
   ]
  },
  {
   "cell_type": "markdown",
   "metadata": {},
   "source": [
    "### Defining the LP Problem"
   ]
  },
  {
   "cell_type": "code",
   "execution_count": 7,
   "metadata": {},
   "outputs": [],
   "source": [
    "# ==================== DEFINE THE MAIN COMPONENTS OF THE LP PROBLEM ====================\n",
    "# no. of decision variables (N)\n",
    "NO_OF_DECISION_VARS = 2\n",
    "\n",
    "# no. of conditions \n",
    "NO_OF_CONDITIONS = 4\n",
    "\n",
    "# --------------------------------- objective function ---------------------------------\n",
    "# specify the objective function in the format [<coefficient_1>, <coefficient_2>, ..., <coefficient_N>]\n",
    "OBJ_FUNC = [-3, -2]\n",
    "\n",
    "# -------------------------------- type of optimization --------------------------------\n",
    "OPT_TYPE = \"MAX\" # or \"MIN\" \n",
    "\n",
    "# ------------------------------------- conditions -------------------------------------\n",
    "# all the conditions are '<=' inequalities. \n",
    "# specify each condition in a new row with the format [<coefficient_1>, <coefficient_2>, ..., <coefficient_N>, <solution>]\n",
    "conditions = [\n",
    "    [-1, -1,  -1],\n",
    "    [ 1,  1,   7],\n",
    "    [-1, -2, -10],\n",
    "    [ 0,  1,   3]\n",
    "]\n",
    "\n",
    "OBJ_FUNC = np.array(OBJ_FUNC)\n",
    "conditions = np.array(conditions)"
   ]
  },
  {
   "cell_type": "markdown",
   "metadata": {},
   "source": [
    "### Creating the Variables and the Initial Tabulation"
   ]
  },
  {
   "cell_type": "code",
   "execution_count": 8,
   "metadata": {},
   "outputs": [
    {
     "name": "stdout",
     "output_type": "stream",
     "text": [
      "┌────┬─────┬──────┬──────┬──────┬──────┬──────┬──────┬───────┐\n",
      "│    │   P │   X1 │   X2 │   S1 │   S2 │   S3 │   S4 │   sol │\n",
      "├────┼─────┼──────┼──────┼──────┼──────┼──────┼──────┼───────┤\n",
      "│ P  │   1 │    3 │    2 │    0 │    0 │    0 │    0 │     0 │\n",
      "├────┼─────┼──────┼──────┼──────┼──────┼──────┼──────┼───────┤\n",
      "│ S1 │   0 │   -1 │   -1 │    1 │    0 │    0 │    0 │    -1 │\n",
      "├────┼─────┼──────┼──────┼──────┼──────┼──────┼──────┼───────┤\n",
      "│ S2 │   0 │    1 │    1 │    0 │    1 │    0 │    0 │     7 │\n",
      "├────┼─────┼──────┼──────┼──────┼──────┼──────┼──────┼───────┤\n",
      "│ S3 │   0 │   -1 │   -2 │    0 │    0 │    1 │    0 │   -10 │\n",
      "├────┼─────┼──────┼──────┼──────┼──────┼──────┼──────┼───────┤\n",
      "│ S4 │   0 │    0 │    1 │    0 │    0 │    0 │    1 │     3 │\n",
      "└────┴─────┴──────┴──────┴──────┴──────┴──────┴──────┴───────┘\n"
     ]
    }
   ],
   "source": [
    "# find the size of a row\n",
    "row_size = 1 + NO_OF_DECISION_VARS + NO_OF_CONDITIONS + 1\n",
    "\n",
    "# find the column size\n",
    "col_size = 1 + NO_OF_CONDITIONS # no. of basic vars = 1 (for objective function) + no. of conditions\n",
    "\n",
    "# initialize the initial tabulation\n",
    "initial_tabulation = np.zeros((col_size, row_size))\n",
    "\n",
    "# create the variables\n",
    "var_symbol_arr = []\n",
    "basic_var_symbol_arr = []\n",
    "\n",
    "OBJ_FUNC_VAR_SYMBOL = \"P\"\n",
    "DECISION_VAR_SYMBOL = \"X\"\n",
    "SLACK_VAR_SYMBOL    = \"S\" # for '<=' inequalities, only slack variables are necessary. \n",
    "\n",
    "var_symbol_arr.append(OBJ_FUNC_VAR_SYMBOL)\n",
    "basic_var_symbol_arr.append(OBJ_FUNC_VAR_SYMBOL)\n",
    "\n",
    "for i in range(NO_OF_DECISION_VARS):\n",
    "    var_symbol_arr.append(DECISION_VAR_SYMBOL + str(i+1))\n",
    "\n",
    "for i in range(NO_OF_CONDITIONS):\n",
    "    var_symbol_arr.append(SLACK_VAR_SYMBOL + str(i+1))\n",
    "    basic_var_symbol_arr.append(SLACK_VAR_SYMBOL + str(i+1))\n",
    "\n",
    "# create the objective function row\n",
    "initial_tabulation[0][0] = 1\n",
    "initial_tabulation[0][1 : len(OBJ_FUNC)+1] = -OBJ_FUNC\n",
    "\n",
    "# create all the other basic variable rows\n",
    "for i in range(NO_OF_CONDITIONS):\n",
    "\n",
    "    initial_tabulation[i+1][1 : NO_OF_DECISION_VARS+1] = conditions[i][ :-1]\n",
    "    initial_tabulation[i+1][-1] = conditions[i][-1] # solution value\n",
    "    initial_tabulation[i+1][1+NO_OF_DECISION_VARS+i] = 1 # pivot vector\n",
    "\n",
    "visualize_tabulation(initial_tabulation, all_vars=var_symbol_arr, basic_vars=basic_var_symbol_arr)\n"
   ]
  },
  {
   "cell_type": "markdown",
   "metadata": {},
   "source": [
    "### Removing the Negative Values from the Solution Column"
   ]
  },
  {
   "cell_type": "code",
   "execution_count": 16,
   "metadata": {},
   "outputs": [
    {
     "name": "stdout",
     "output_type": "stream",
     "text": [
      "====================DUAL SIMPLEX - iteration no.: 1====================\n",
      "leaving variale : S3\n",
      "ratio row       : [inf  3.  1. nan nan  0. nan  0.]\n",
      "entering variale: X2\n",
      "┌────┬─────┬──────┬──────┬──────┬──────┬──────┬──────┬───────┐\n",
      "│    │   P │   X1 │   X2 │   S1 │   S2 │   S3 │   S4 │   sol │\n",
      "├────┼─────┼──────┼──────┼──────┼──────┼──────┼──────┼───────┤\n",
      "│ P  │   1 │  2   │    0 │    0 │    0 │  1   │    0 │   -10 │\n",
      "├────┼─────┼──────┼──────┼──────┼──────┼──────┼──────┼───────┤\n",
      "│ S1 │   0 │ -0.5 │    0 │    1 │    0 │ -0.5 │    0 │     4 │\n",
      "├────┼─────┼──────┼──────┼──────┼──────┼──────┼──────┼───────┤\n",
      "│ S2 │   0 │  0.5 │    0 │    0 │    1 │  0.5 │    0 │     2 │\n",
      "├────┼─────┼──────┼──────┼──────┼──────┼──────┼──────┼───────┤\n",
      "│ X2 │  -0 │  0.5 │    1 │   -0 │   -0 │ -0.5 │   -0 │     5 │\n",
      "├────┼─────┼──────┼──────┼──────┼──────┼──────┼──────┼───────┤\n",
      "│ S4 │   0 │ -0.5 │    0 │    0 │    0 │  0.5 │    1 │    -2 │\n",
      "└────┴─────┴──────┴──────┴──────┴──────┴──────┴──────┴───────┘\n",
      "====================DUAL SIMPLEX - iteration no.: 2====================\n",
      "leaving variale : S4\n",
      "ratio row       : [inf  4. nan nan nan  2.  0.  5.]\n",
      "entering variale: X1\n",
      "┌────┬─────┬──────┬──────┬──────┬──────┬──────┬──────┬───────┐\n",
      "│    │   P │   X1 │   X2 │   S1 │   S2 │   S3 │   S4 │   sol │\n",
      "├────┼─────┼──────┼──────┼──────┼──────┼──────┼──────┼───────┤\n",
      "│ P  │   1 │    0 │    0 │    0 │    0 │    3 │    4 │   -18 │\n",
      "├────┼─────┼──────┼──────┼──────┼──────┼──────┼──────┼───────┤\n",
      "│ S1 │   0 │    0 │    0 │    1 │    0 │   -1 │   -1 │     6 │\n",
      "├────┼─────┼──────┼──────┼──────┼──────┼──────┼──────┼───────┤\n",
      "│ S2 │   0 │    0 │    0 │    0 │    1 │    1 │    1 │     0 │\n",
      "├────┼─────┼──────┼──────┼──────┼──────┼──────┼──────┼───────┤\n",
      "│ X2 │   0 │    0 │    1 │    0 │    0 │    0 │    1 │     3 │\n",
      "├────┼─────┼──────┼──────┼──────┼──────┼──────┼──────┼───────┤\n",
      "│ X1 │  -0 │    1 │   -0 │   -0 │   -0 │   -1 │   -2 │     4 │\n",
      "└────┴─────┴──────┴──────┴──────┴──────┴──────┴──────┴───────┘\n"
     ]
    },
    {
     "name": "stderr",
     "output_type": "stream",
     "text": [
      "/tmp/ipykernel_506091/609116862.py:18: RuntimeWarning: divide by zero encountered in divide\n",
      "  ratio_row = np.abs(tabulation[0]) / np.abs(tabulation[pivot_row_idx])\n",
      "/tmp/ipykernel_506091/609116862.py:18: RuntimeWarning: invalid value encountered in divide\n",
      "  ratio_row = np.abs(tabulation[0]) / np.abs(tabulation[pivot_row_idx])\n"
     ]
    }
   ],
   "source": [
    "tabulation = copy.deepcopy(initial_tabulation)\n",
    "\n",
    "iteration_no = 0\n",
    "while (tabulation[:, -1][1: ] < 0).any():\n",
    "    # until there are negative values in the solution column\n",
    "    iteration_no += 1\n",
    "    print(\"=\"*20 + f\"DUAL SIMPLEX - iteration no.: {iteration_no}\" + \"=\"*20)\n",
    "\n",
    "    # ------------------------------ find the leaving variable ------------------------------\n",
    "    pivot_row_val = np.min(tabulation[:, -1][1: ]) # max negative solution value\n",
    "    if list(tabulation[:, -1][1: ]).count(pivot_row_val) > 1:\n",
    "        print(f\"WARNING: there are multiple instances of the maximum negative solution value {pivot_row_val}...\")\n",
    "    pivot_row_idx = list(tabulation[:, -1][1: ]).index(pivot_row_val) + 1\n",
    "    pivot_row_var = basic_var_symbol_arr[pivot_row_idx]\n",
    "    print(f\"leaving variale : {pivot_row_var}\")\n",
    "\n",
    "    # ----------------------------- find the entering variable ------------------------------\n",
    "    ratio_row = np.abs(tabulation[0]) / np.abs(tabulation[pivot_row_idx])\n",
    "    print(f\"ratio row       : {ratio_row}\")\n",
    "    pivot_col_val = np.min(ratio_row[1:-1][tabulation[pivot_row_idx][1:-1] < 0]) # surely positive\n",
    "\n",
    "    # there can be multiple instances of `pivot_col_value`; must find a correct one\n",
    "    pivot_col_idx = 0\n",
    "    for _ in range(list(ratio_row[1:-1]).count(pivot_col_val)):\n",
    "        pivot_col_idx = list(ratio_row[pivot_col_idx+1:-1]).index(pivot_col_val) + 1\n",
    "        if tabulation[pivot_row_idx][pivot_col_idx] < 0: break\n",
    "    pivot_col_var = var_symbol_arr[pivot_col_idx]\n",
    "    print(f\"entering variale: {pivot_col_var}\")\n",
    "    basic_var_symbol_arr[pivot_row_idx] = pivot_col_var\n",
    "\n",
    "    # --------------------- convert the pivot column to a pivot vector ----------------------\n",
    "    tabulation[pivot_row_idx] /= tabulation[pivot_row_idx][pivot_col_idx]\n",
    "    pivot_row = tabulation[pivot_row_idx]\n",
    "\n",
    "    for row_idx in range(tabulation.shape[0]):\n",
    "        if row_idx == pivot_row_idx: continue\n",
    "\n",
    "        row = tabulation[row_idx]\n",
    "        tabulation[row_idx] = row - row[pivot_col_idx] * pivot_row\n",
    "\n",
    "    visualize_tabulation(tabulation, all_vars=var_symbol_arr, basic_vars=basic_var_symbol_arr)"
   ]
  },
  {
   "cell_type": "markdown",
   "metadata": {},
   "source": [
    "### Convert Above into a Function"
   ]
  },
  {
   "cell_type": "code",
   "execution_count": 14,
   "metadata": {},
   "outputs": [],
   "source": [
    "def dual_simplex_to_all_slack_starting(tabulation, all_vars, basic_vars):\n",
    "\n",
    "    # take a deepcopy of the input tabulation not to alter existing tabulation\n",
    "    tabulation = copy.deepcopy(tabulation)\n",
    "\n",
    "    # let's use a loop here...\n",
    "    for row_idx in range(1, col_size):\n",
    "\n",
    "        if tabulation[row_idx][-1] < 0:\n",
    "            # negative solution value -> infeasible\n",
    "            ratio_row = np.abs(tabulation[0]) / np.abs(tabulation[row_idx])\n",
    "            min_ratio = np.min(ratio_row[1:-1][tabulation[row_idx][1:-1] < 0])\n",
    "            if min_ratio == np.inf:\n",
    "                raise Exception(f\"the minimum ratio is infinity; therefore, UNBOUNDED SOLUTIONS EXIST...\")\n",
    "\n",
    "            found = False\n",
    "            while not found:\n",
    "                min_ratio_idx = list(ratio_row).index(min_ratio)\n",
    "                if tabulation[row_idx][min_ratio_idx] < 0: found = True\n",
    "            tabulation[row_idx] /= tabulation[row_idx][min_ratio_idx]\n",
    "\n",
    "    visualize_tabulation(tabulation, all_vars=var_symbol_arr, basic_vars=basic_var_symbol_arr)\n",
    "\n",
    "    return tabulation, all_vars, basic_vars"
   ]
  },
  {
   "cell_type": "markdown",
   "metadata": {},
   "source": [
    "### Follow-up with All Slack Starting Method"
   ]
  },
  {
   "cell_type": "code",
   "execution_count": 17,
   "metadata": {},
   "outputs": [
    {
     "name": "stdout",
     "output_type": "stream",
     "text": [
      "*****there are no more negative values in the objective row; tabulation is optimal...*****\n",
      "\n",
      "S3 3.0\n",
      "S4 4.0\n"
     ]
    },
    {
     "data": {
      "text/plain": [
       "(array([[  1.,   0.,   0.,   0.,   0.,   3.,   4., -18.],\n",
       "        [  0.,   0.,   0.,   1.,   0.,  -1.,  -1.,   6.],\n",
       "        [  0.,   0.,   0.,   0.,   1.,   1.,   1.,   0.],\n",
       "        [  0.,   0.,   1.,   0.,   0.,   0.,   1.,   3.],\n",
       "        [ -0.,   1.,  -0.,  -0.,  -0.,  -1.,  -2.,   4.]]),\n",
       " ['P', 'X1', 'X2', 'S1', 'S2', 'S3', 'S4'],\n",
       " ['P', 'S1', 'S2', 'X2', 'X1'])"
      ]
     },
     "execution_count": 17,
     "metadata": {},
     "output_type": "execute_result"
    }
   ],
   "source": [
    "all_slack_starting(tabulation, all_vars=var_symbol_arr, basic_vars=basic_var_symbol_arr, opt_type=OPT_TYPE)"
   ]
  },
  {
   "cell_type": "code",
   "execution_count": 11,
   "metadata": {},
   "outputs": [
    {
     "data": {
      "text/plain": [
       "0"
      ]
     },
     "execution_count": 11,
     "metadata": {},
     "output_type": "execute_result"
    }
   ],
   "source": [
    "arr = [1, 2, 1]\n",
    "arr.index(1)"
   ]
  }
 ],
 "metadata": {
  "kernelspec": {
   "display_name": "Python 3",
   "language": "python",
   "name": "python3"
  },
  "language_info": {
   "codemirror_mode": {
    "name": "ipython",
    "version": 3
   },
   "file_extension": ".py",
   "mimetype": "text/x-python",
   "name": "python",
   "nbconvert_exporter": "python",
   "pygments_lexer": "ipython3",
   "version": "3.10.12"
  }
 },
 "nbformat": 4,
 "nbformat_minor": 2
}
